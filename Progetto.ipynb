{
  "nbformat": 4,
  "nbformat_minor": 0,
  "metadata": {
    "kernelspec": {
      "display_name": "Python 3",
      "language": "python",
      "name": "python3"
    },
    "language_info": {
      "codemirror_mode": {
        "name": "ipython",
        "version": 3
      },
      "file_extension": ".py",
      "mimetype": "text/x-python",
      "name": "python",
      "nbconvert_exporter": "python",
      "pygments_lexer": "ipython3",
      "version": "3.7.6"
    },
    "colab": {
      "name": "Progetto.ipynb",
      "provenance": [],
      "include_colab_link": true
    }
  },
  "cells": [
    {
      "cell_type": "markdown",
      "metadata": {
        "id": "view-in-github",
        "colab_type": "text"
      },
      "source": [
        "<a href=\"https://colab.research.google.com/github/LucaPesaresi/Clipper/blob/master/Progetto.ipynb\" target=\"_parent\"><img src=\"https://colab.research.google.com/assets/colab-badge.svg\" alt=\"Open In Colab\"/></a>"
      ]
    },
    {
      "cell_type": "markdown",
      "metadata": {
        "id": "5teSjve1UxqS"
      },
      "source": [
        "# Progetto per l'esame di Programmazione di applicazioni di Data Intensive "
      ]
    },
    {
      "cell_type": "markdown",
      "metadata": {
        "id": "hYc-R9fSUxqg"
      },
      "source": [
        "<div style=\"text-align: right\">di:  Luca Pesaresi </div>"
      ]
    },
    {
      "cell_type": "markdown",
      "metadata": {
        "id": "v2cW35i4Uxqh"
      },
      "source": [
        "Il progetto consiste nell'analizzare i dati dati recuperati dal sito IMDB contenente un archivio di dati relativi ai titoli di film, serie tv, corti, ect...\n",
        "Per effettuare l'analisi mi sono servito di due dataset \n",
        "- `imdb_movies.csv` recuperato dal sito https://www.imdb.com/interfaces/\n",
        "- `user_ratings_imdb.csv` recuperato dal sito https://ieee-dataport.org/open-access/imdb-users-ratings-dataset\n",
        "\n",
        "L'obiettivo è quello di svolere un'unalisi di recommendation, in cui dato un utente venga restituita una lista dei titoli suggeriti con valutazioni più alte"
      ]
    },
    {
      "cell_type": "markdown",
      "metadata": {
        "id": "q6XsLJNFUxqi"
      },
      "source": [
        "## Librerie"
      ]
    },
    {
      "cell_type": "code",
      "metadata": {
        "id": "M3_lxhNnUxqj"
      },
      "source": [
        "import numpy as np\n",
        "import pandas as pd\n",
        "import matplotlib.pyplot as plt"
      ],
      "execution_count": null,
      "outputs": []
    },
    {
      "cell_type": "markdown",
      "metadata": {
        "id": "vQhpEWYUUxqk"
      },
      "source": [
        "## Caricamento dei dati"
      ]
    },
    {
      "cell_type": "markdown",
      "metadata": {
        "id": "ansBqZCVUxql"
      },
      "source": [
        "Carichiamo i due dataset"
      ]
    },
    {
      "cell_type": "code",
      "metadata": {
        "id": "nuyNyiZ_Uxql"
      },
      "source": [
        "movies = pd.read_csv('imdb_movies.csv')"
      ],
      "execution_count": null,
      "outputs": []
    },
    {
      "cell_type": "code",
      "metadata": {
        "id": "oc_R7ziqUxqm",
        "outputId": "9701ddc8-2940-4b77-d6f0-e0d8384fd0a0"
      },
      "source": [
        "movies.head(3)"
      ],
      "execution_count": null,
      "outputs": [
        {
          "output_type": "execute_result",
          "data": {
            "text/html": [
              "<div>\n",
              "<style scoped>\n",
              "    .dataframe tbody tr th:only-of-type {\n",
              "        vertical-align: middle;\n",
              "    }\n",
              "\n",
              "    .dataframe tbody tr th {\n",
              "        vertical-align: top;\n",
              "    }\n",
              "\n",
              "    .dataframe thead th {\n",
              "        text-align: right;\n",
              "    }\n",
              "</style>\n",
              "<table border=\"1\" class=\"dataframe\">\n",
              "  <thead>\n",
              "    <tr style=\"text-align: right;\">\n",
              "      <th></th>\n",
              "      <th>tconst</th>\n",
              "      <th>type</th>\n",
              "      <th>title</th>\n",
              "      <th>isAdult</th>\n",
              "      <th>year</th>\n",
              "      <th>minutes</th>\n",
              "      <th>genres</th>\n",
              "    </tr>\n",
              "  </thead>\n",
              "  <tbody>\n",
              "    <tr>\n",
              "      <th>0</th>\n",
              "      <td>tt0000001</td>\n",
              "      <td>short</td>\n",
              "      <td>Carmencita</td>\n",
              "      <td>0</td>\n",
              "      <td>1894</td>\n",
              "      <td>1</td>\n",
              "      <td>Documentary,Short</td>\n",
              "    </tr>\n",
              "    <tr>\n",
              "      <th>1</th>\n",
              "      <td>tt0000002</td>\n",
              "      <td>short</td>\n",
              "      <td>Le clown et ses chiens</td>\n",
              "      <td>0</td>\n",
              "      <td>1892</td>\n",
              "      <td>5</td>\n",
              "      <td>Animation,Short</td>\n",
              "    </tr>\n",
              "    <tr>\n",
              "      <th>2</th>\n",
              "      <td>tt0000003</td>\n",
              "      <td>short</td>\n",
              "      <td>Pauvre Pierrot</td>\n",
              "      <td>0</td>\n",
              "      <td>1892</td>\n",
              "      <td>4</td>\n",
              "      <td>Animation,Comedy,Romance</td>\n",
              "    </tr>\n",
              "  </tbody>\n",
              "</table>\n",
              "</div>"
            ],
            "text/plain": [
              "      tconst   type                   title  isAdult  year minutes  \\\n",
              "0  tt0000001  short              Carmencita        0  1894       1   \n",
              "1  tt0000002  short  Le clown et ses chiens        0  1892       5   \n",
              "2  tt0000003  short          Pauvre Pierrot        0  1892       4   \n",
              "\n",
              "                     genres  \n",
              "0         Documentary,Short  \n",
              "1           Animation,Short  \n",
              "2  Animation,Comedy,Romance  "
            ]
          },
          "metadata": {
            "tags": []
          },
          "execution_count": 3
        }
      ]
    },
    {
      "cell_type": "code",
      "metadata": {
        "id": "8eTxhNpvUxqo"
      },
      "source": [
        "user_ratings = pd.read_csv('user_ratings_imdb.csv')"
      ],
      "execution_count": null,
      "outputs": []
    },
    {
      "cell_type": "code",
      "metadata": {
        "id": "YwkhChk-Uxqq",
        "outputId": "bc5de2a1-3b05-4b8c-e40e-2fe7d6ad0a48"
      },
      "source": [
        "user_ratings.head()"
      ],
      "execution_count": null,
      "outputs": [
        {
          "output_type": "execute_result",
          "data": {
            "text/html": [
              "<div>\n",
              "<style scoped>\n",
              "    .dataframe tbody tr th:only-of-type {\n",
              "        vertical-align: middle;\n",
              "    }\n",
              "\n",
              "    .dataframe tbody tr th {\n",
              "        vertical-align: top;\n",
              "    }\n",
              "\n",
              "    .dataframe thead th {\n",
              "        text-align: right;\n",
              "    }\n",
              "</style>\n",
              "<table border=\"1\" class=\"dataframe\">\n",
              "  <thead>\n",
              "    <tr style=\"text-align: right;\">\n",
              "      <th></th>\n",
              "      <th>user_id</th>\n",
              "      <th>tconst</th>\n",
              "      <th>rating</th>\n",
              "    </tr>\n",
              "  </thead>\n",
              "  <tbody>\n",
              "    <tr>\n",
              "      <th>0</th>\n",
              "      <td>ur0000001</td>\n",
              "      <td>tt1144884</td>\n",
              "      <td>4</td>\n",
              "    </tr>\n",
              "    <tr>\n",
              "      <th>1</th>\n",
              "      <td>ur0000002</td>\n",
              "      <td>tt0119237</td>\n",
              "      <td>2</td>\n",
              "    </tr>\n",
              "    <tr>\n",
              "      <th>2</th>\n",
              "      <td>ur0000002</td>\n",
              "      <td>tt0120741</td>\n",
              "      <td>5</td>\n",
              "    </tr>\n",
              "    <tr>\n",
              "      <th>3</th>\n",
              "      <td>ur0000002</td>\n",
              "      <td>tt0120746</td>\n",
              "      <td>7</td>\n",
              "    </tr>\n",
              "    <tr>\n",
              "      <th>4</th>\n",
              "      <td>ur0000002</td>\n",
              "      <td>tt0129387</td>\n",
              "      <td>7</td>\n",
              "    </tr>\n",
              "  </tbody>\n",
              "</table>\n",
              "</div>"
            ],
            "text/plain": [
              "     user_id     tconst  rating\n",
              "0  ur0000001  tt1144884       4\n",
              "1  ur0000002  tt0119237       2\n",
              "2  ur0000002  tt0120741       5\n",
              "3  ur0000002  tt0120746       7\n",
              "4  ur0000002  tt0129387       7"
            ]
          },
          "metadata": {
            "tags": []
          },
          "execution_count": 5
        }
      ]
    },
    {
      "cell_type": "markdown",
      "metadata": {
        "id": "moXortL7Uxqr"
      },
      "source": [
        "### Significato delle variabili\n",
        "\n",
        "#### imdb_movies\n",
        "- `tconst`: indicizza i titoli del dataset.\n",
        "- `type`: indica la tipologia di video: film, cortometraggio, serie tv, ect.\n",
        "- `title`: indica il titolo del video.\n",
        "- `isAdult`: indica se la visione è ristretta ad un pubblico adulto (1) altrimenti (0). \n",
        "- `year`: indica l'anno di rilascio del video, o nel caso di una serie tv l'anno in cui è iniziata.\n",
        "- `minutes`: riporta il minutaggio del video.\n",
        "- `genres`: indica il genere rispettivo del video.\n",
        "\n",
        "#### user_ratings\n",
        "- `user_id`: indicizza le valutazioni dei ripettivi utenti del dataset.\n",
        "- `tconst`: indicizza il relativo titolo valutato.\n",
        "- `rating`: valutazione del video."
      ]
    },
    {
      "cell_type": "markdown",
      "metadata": {
        "id": "x0XYJsQ7Uxqs"
      },
      "source": [
        "## Preparazione dei dati"
      ]
    },
    {
      "cell_type": "markdown",
      "metadata": {
        "id": "6gZSBycqUxqt"
      },
      "source": [
        "Vengono sostuiti tutti i valori vuoti con una stringa vuota"
      ]
    },
    {
      "cell_type": "code",
      "metadata": {
        "id": "5sRt3mOXUxqt"
      },
      "source": [
        "movies = movies.loc[movies[\"year\"] != '\\\\N']\n",
        "movies = movies.loc[movies[\"minutes\"] != '\\\\N']\n",
        "movies = movies.loc[movies[\"genres\"] != '\\\\N']"
      ],
      "execution_count": null,
      "outputs": []
    },
    {
      "cell_type": "markdown",
      "metadata": {
        "id": "ocASLlCHUxqt"
      },
      "source": [
        "Si convertono le colonne numeriche nel formato intero."
      ]
    },
    {
      "cell_type": "code",
      "metadata": {
        "id": "CNhLHAliUxqu"
      },
      "source": [
        "movies[\"year\"] = movies[\"year\"].astype(int)\n",
        "movies[\"minutes\"] = movies[\"minutes\"].astype(int)"
      ],
      "execution_count": null,
      "outputs": []
    },
    {
      "cell_type": "markdown",
      "metadata": {
        "id": "c-2GJlTpUxqu"
      },
      "source": [
        "Si rimuovono tutte i dati relativi ai titoli che devono ancora uscire negli anni a venire."
      ]
    },
    {
      "cell_type": "code",
      "metadata": {
        "id": "AOh6BDMNUxqv"
      },
      "source": [
        "import datetime\n",
        "year = datetime.datetime.now().year\n",
        "movies = movies[movies[\"year\"] < year]"
      ],
      "execution_count": null,
      "outputs": []
    },
    {
      "cell_type": "code",
      "metadata": {
        "id": "BG-eJ7azUxqv",
        "outputId": "173fe117-2865-47f9-e790-1c54330a5449"
      },
      "source": [
        "movies.size"
      ],
      "execution_count": null,
      "outputs": [
        {
          "output_type": "execute_result",
          "data": {
            "text/plain": [
              "8668982"
            ]
          },
          "metadata": {
            "tags": []
          },
          "execution_count": 9
        }
      ]
    },
    {
      "cell_type": "markdown",
      "metadata": {
        "id": "D40cRNjFUxqw"
      },
      "source": [
        "## Analisi espolorativa dei dati"
      ]
    },
    {
      "cell_type": "markdown",
      "metadata": {
        "id": "pgFTmVjEUxqw"
      },
      "source": [
        "Si genera una distribuzione dei titoli a partire dal 1950 ad oggi"
      ]
    },
    {
      "cell_type": "code",
      "metadata": {
        "id": "Pk0xzcnGUxqw",
        "outputId": "6deb32e0-7090-4e2c-f042-16d13325fb18"
      },
      "source": [
        "movies.loc[movies[\"year\"] > 1949][\"year\"].value_counts().sort_index().plot.bar(figsize=(20,5));"
      ],
      "execution_count": null,
      "outputs": [
        {
          "output_type": "execute_result",
          "data": {
            "text/plain": [
              "<matplotlib.axes._subplots.AxesSubplot at 0x243e95c6288>"
            ]
          },
          "metadata": {
            "tags": []
          },
          "execution_count": 10
        },
        {
          "output_type": "display_data",
          "data": {
            "image/png": "[encoded data removed]",
            "text/plain": [
              "<Figure size 1440x360 with 1 Axes>"
            ]
          },
          "metadata": {
            "tags": [],
            "needs_background": "light"
          }
        }
      ]
    },
    {
      "cell_type": "markdown",
      "metadata": {
        "id": "HwlBfpArUxqx"
      },
      "source": [
        "Solamente il 5% dei titoli sono riservati ad un pubblico adulto"
      ]
    },
    {
      "cell_type": "code",
      "metadata": {
        "id": "r_4DGKe1Uxqx",
        "outputId": "2b27b0e3-92ee-40df-914c-97b8c1e6fa77"
      },
      "source": [
        "100*round(movies[\"isAdult\"].value_counts(normalize=True),2)"
      ],
      "execution_count": null,
      "outputs": [
        {
          "output_type": "execute_result",
          "data": {
            "text/plain": [
              "0    95.0\n",
              "1     5.0\n",
              "Name: isAdult, dtype: float64"
            ]
          },
          "metadata": {
            "tags": []
          },
          "execution_count": 11
        }
      ]
    },
    {
      "cell_type": "markdown",
      "metadata": {
        "id": "wQlFOk0EUxqy"
      },
      "source": [
        "Dal grafico si notano i generi più di tendenza "
      ]
    },
    {
      "cell_type": "code",
      "metadata": {
        "id": "fesDw-nnUxqy",
        "outputId": "a0201968-3120-4cee-8fbe-635dedf74dca"
      },
      "source": [
        "movies[\"genres\"].value_counts(ascending=False)[:20].plot.pie(figsize=(10,10));"
      ],
      "execution_count": null,
      "outputs": [
        {
          "output_type": "execute_result",
          "data": {
            "text/plain": [
              "<matplotlib.axes._subplots.AxesSubplot at 0x243867d9a48>"
            ]
          },
          "metadata": {
            "tags": []
          },
          "execution_count": 12
        },
        {
          "output_type": "display_data",
          "data": {
            "image/png": "[encoded data removed]",
            "text/plain": [
              "<Figure size 720x720 with 1 Axes>"
            ]
          },
          "metadata": {
            "tags": []
          }
        }
      ]
    },
    {
      "cell_type": "code",
      "metadata": {
        "id": "sZGPbZ7pUxqz",
        "outputId": "1c8b865d-9c8c-42d5-e8fd-55c3ba7e662e"
      },
      "source": [
        "user_ratings.describe()"
      ],
      "execution_count": null,
      "outputs": [
        {
          "output_type": "execute_result",
          "data": {
            "text/html": [
              "<div>\n",
              "<style scoped>\n",
              "    .dataframe tbody tr th:only-of-type {\n",
              "        vertical-align: middle;\n",
              "    }\n",
              "\n",
              "    .dataframe tbody tr th {\n",
              "        vertical-align: top;\n",
              "    }\n",
              "\n",
              "    .dataframe thead th {\n",
              "        text-align: right;\n",
              "    }\n",
              "</style>\n",
              "<table border=\"1\" class=\"dataframe\">\n",
              "  <thead>\n",
              "    <tr style=\"text-align: right;\">\n",
              "      <th></th>\n",
              "      <th>rating</th>\n",
              "    </tr>\n",
              "  </thead>\n",
              "  <tbody>\n",
              "    <tr>\n",
              "      <th>count</th>\n",
              "      <td>4.669820e+06</td>\n",
              "    </tr>\n",
              "    <tr>\n",
              "      <th>mean</th>\n",
              "      <td>6.557848e+00</td>\n",
              "    </tr>\n",
              "    <tr>\n",
              "      <th>std</th>\n",
              "      <td>2.532589e+00</td>\n",
              "    </tr>\n",
              "    <tr>\n",
              "      <th>min</th>\n",
              "      <td>1.000000e+00</td>\n",
              "    </tr>\n",
              "    <tr>\n",
              "      <th>25%</th>\n",
              "      <td>5.000000e+00</td>\n",
              "    </tr>\n",
              "    <tr>\n",
              "      <th>50%</th>\n",
              "      <td>7.000000e+00</td>\n",
              "    </tr>\n",
              "    <tr>\n",
              "      <th>75%</th>\n",
              "      <td>9.000000e+00</td>\n",
              "    </tr>\n",
              "    <tr>\n",
              "      <th>max</th>\n",
              "      <td>1.000000e+01</td>\n",
              "    </tr>\n",
              "  </tbody>\n",
              "</table>\n",
              "</div>"
            ],
            "text/plain": [
              "             rating\n",
              "count  4.669820e+06\n",
              "mean   6.557848e+00\n",
              "std    2.532589e+00\n",
              "min    1.000000e+00\n",
              "25%    5.000000e+00\n",
              "50%    7.000000e+00\n",
              "75%    9.000000e+00\n",
              "max    1.000000e+01"
            ]
          },
          "metadata": {
            "tags": []
          },
          "execution_count": 13
        }
      ]
    },
    {
      "cell_type": "markdown",
      "metadata": {
        "id": "TOZEiC6sUxq0"
      },
      "source": [
        "Confronto tra le varie tipologie di video."
      ]
    },
    {
      "cell_type": "code",
      "metadata": {
        "id": "CWC-gFA2Uxq0",
        "outputId": "b52076ff-6ad8-469f-8412-afec32f668bb"
      },
      "source": [
        "movies[\"type\"].value_counts().plot.bar();"
      ],
      "execution_count": null,
      "outputs": [
        {
          "output_type": "execute_result",
          "data": {
            "text/plain": [
              "<matplotlib.axes._subplots.AxesSubplot at 0x243865ebd48>"
            ]
          },
          "metadata": {
            "tags": []
          },
          "execution_count": 14
        },
        {
          "output_type": "display_data",
          "data": {
            "image/png": "[encoded data removed]",
            "text/plain": [
              "<Figure size 432x288 with 1 Axes>"
            ]
          },
          "metadata": {
            "tags": [],
            "needs_background": "light"
          }
        }
      ]
    },
    {
      "cell_type": "markdown",
      "metadata": {
        "id": "f7f51IoOUxq0"
      },
      "source": [
        "Il dataframe user_ratings contiene le valutazioni per un campione di 1_499_238 utenti per 351_109 titoli con un range di 10 voti "
      ]
    },
    {
      "cell_type": "code",
      "metadata": {
        "id": "MEh-bcErUxq1",
        "outputId": "9fd7017c-3d19-448a-d2c4-37d815c96252"
      },
      "source": [
        "user_ratings.nunique()"
      ],
      "execution_count": null,
      "outputs": [
        {
          "output_type": "execute_result",
          "data": {
            "text/plain": [
              "user_id    1499238\n",
              "tconst      351109\n",
              "rating          10\n",
              "dtype: int64"
            ]
          },
          "metadata": {
            "tags": []
          },
          "execution_count": 15
        }
      ]
    },
    {
      "cell_type": "markdown",
      "metadata": {
        "id": "hNjjPDpnUxq1"
      },
      "source": [
        "La distribuzione dei voti secondo il range di valutazioni "
      ]
    },
    {
      "cell_type": "code",
      "metadata": {
        "id": "QV91ZYbFUxq2",
        "outputId": "cd81b35a-fcd3-45bc-99e4-33c23b614d71"
      },
      "source": [
        "pd.DataFrame(user_ratings[\"rating\"].value_counts().sort_index()).T"
      ],
      "execution_count": null,
      "outputs": [
        {
          "output_type": "execute_result",
          "data": {
            "text/html": [
              "<div>\n",
              "<style scoped>\n",
              "    .dataframe tbody tr th:only-of-type {\n",
              "        vertical-align: middle;\n",
              "    }\n",
              "\n",
              "    .dataframe tbody tr th {\n",
              "        vertical-align: top;\n",
              "    }\n",
              "\n",
              "    .dataframe thead th {\n",
              "        text-align: right;\n",
              "    }\n",
              "</style>\n",
              "<table border=\"1\" class=\"dataframe\">\n",
              "  <thead>\n",
              "    <tr style=\"text-align: right;\">\n",
              "      <th></th>\n",
              "      <th>1</th>\n",
              "      <th>2</th>\n",
              "      <th>3</th>\n",
              "      <th>4</th>\n",
              "      <th>5</th>\n",
              "      <th>6</th>\n",
              "      <th>7</th>\n",
              "      <th>8</th>\n",
              "      <th>9</th>\n",
              "      <th>10</th>\n",
              "    </tr>\n",
              "  </thead>\n",
              "  <tbody>\n",
              "    <tr>\n",
              "      <th>rating</th>\n",
              "      <td>199834</td>\n",
              "      <td>262117</td>\n",
              "      <td>278304</td>\n",
              "      <td>290156</td>\n",
              "      <td>364741</td>\n",
              "      <td>550629</td>\n",
              "      <td>702626</td>\n",
              "      <td>814896</td>\n",
              "      <td>725833</td>\n",
              "      <td>480684</td>\n",
              "    </tr>\n",
              "  </tbody>\n",
              "</table>\n",
              "</div>"
            ],
            "text/plain": [
              "            1       2       3       4       5       6       7       8   \\\n",
              "rating  199834  262117  278304  290156  364741  550629  702626  814896   \n",
              "\n",
              "            9       10  \n",
              "rating  725833  480684  "
            ]
          },
          "metadata": {
            "tags": []
          },
          "execution_count": 16
        }
      ]
    },
    {
      "cell_type": "code",
      "metadata": {
        "id": "O8sPUQwKUxq2",
        "outputId": "e90e0954-a45c-4cf3-be6d-dc9d620da7a4"
      },
      "source": [
        "user_ratings[\"rating\"].value_counts().sort_index().plot.bar(figsize=(20, 5));"
      ],
      "execution_count": null,
      "outputs": [
        {
          "output_type": "execute_result",
          "data": {
            "text/plain": [
              "<matplotlib.axes._subplots.AxesSubplot at 0x2438665b3c8>"
            ]
          },
          "metadata": {
            "tags": []
          },
          "execution_count": 17
        },
        {
          "output_type": "display_data",
          "data": {
            "image/png": "[encoded data removed]",
            "text/plain": [
              "<Figure size 1440x360 with 1 Axes>"
            ]
          },
          "metadata": {
            "tags": [],
            "needs_background": "light"
          }
        }
      ]
    },
    {
      "cell_type": "markdown",
      "metadata": {
        "id": "tqMpIb9VUxq3"
      },
      "source": [
        "Si definisce una funzione per limitare le occorrenze al fine di semplificare la visualizzazione dei dati"
      ]
    },
    {
      "cell_type": "code",
      "metadata": {
        "id": "PU2l2HuGUxq3"
      },
      "source": [
        "def lim_df(df, lim):\n",
        "    df.groupby(\"user_id\").head(lim)\n",
        "    user_id_max = df[\"user_id\"].unique()[:lim][lim-1]\n",
        "    last_element = (np.where(df[\"user_id\"] == user_id_max))[0]\n",
        "    last_element = last_element[len(last_element)-1]\n",
        "    return df[:last_element]"
      ],
      "execution_count": null,
      "outputs": []
    },
    {
      "cell_type": "code",
      "metadata": {
        "id": "vJi9RKryUxq4"
      },
      "source": [
        "lim_user = lim_df(user_ratings, 50)"
      ],
      "execution_count": null,
      "outputs": []
    },
    {
      "cell_type": "markdown",
      "metadata": {
        "id": "4AgGMTHSUxq4"
      },
      "source": [
        "Si vuole ottenere una distribuzione sul numero di valutazioni medie per utente e il numero di valutazioni medie per film"
      ]
    },
    {
      "cell_type": "code",
      "metadata": {
        "id": "jBXe4Wg6Uxq4",
        "outputId": "fb17d0a2-a36d-41c3-e41e-2504045b3e25"
      },
      "source": [
        "lim_user.groupby(\"user_id\")[\"rating\"].mean().plot.bar(figsize=(20,5));"
      ],
      "execution_count": null,
      "outputs": [
        {
          "output_type": "execute_result",
          "data": {
            "text/plain": [
              "<matplotlib.axes._subplots.AxesSubplot at 0x243866f7ac8>"
            ]
          },
          "metadata": {
            "tags": []
          },
          "execution_count": 20
        },
        {
          "output_type": "display_data",
          "data": {
            "image/png": "[encoded data removed]",
            "text/plain": [
              "<Figure size 1440x360 with 1 Axes>"
            ]
          },
          "metadata": {
            "tags": [],
            "needs_background": "light"
          }
        }
      ]
    },
    {
      "cell_type": "code",
      "metadata": {
        "id": "oNJEcKSZUxq5",
        "outputId": "dc4bfb1a-1953-4620-d6b7-4c361ac3984e"
      },
      "source": [
        "lim_movie = user_ratings.head(50)\n",
        "lim_movie.groupby(\"tconst\")[\"rating\"].mean().plot.bar(figsize=(20,5));"
      ],
      "execution_count": null,
      "outputs": [
        {
          "output_type": "execute_result",
          "data": {
            "text/plain": [
              "<matplotlib.axes._subplots.AxesSubplot at 0x2438738f908>"
            ]
          },
          "metadata": {
            "tags": []
          },
          "execution_count": 21
        },
        {
          "output_type": "display_data",
          "data": {
            "image/png": "[encoded data removed]",
            "text/plain": [
              "<Figure size 1440x360 with 1 Axes>"
            ]
          },
          "metadata": {
            "tags": [],
            "needs_background": "light"
          }
        }
      ]
    },
    {
      "cell_type": "markdown",
      "metadata": {
        "id": "d1JarxfiUxq7"
      },
      "source": [
        "Dato che le valutazioni degli utenti non sono note all'interno del dataframe `movies`, si ricava un dataframe contenente le medie delle valutazioni per ogni titolo del dataframe `user_ratings`."
      ]
    },
    {
      "cell_type": "code",
      "metadata": {
        "id": "DJA_6n-HUxq8",
        "outputId": "78d6e7d3-6213-4c39-c978-24c71820d140"
      },
      "source": [
        "ur = user_ratings\n",
        "means = ur.groupby(\"tconst\")[\"rating\"].mean()\n",
        "index = pd.Series(means.index.values, name='tconst')\n",
        "values = pd.Series([round(i,1) for i in means.values], name=\"rating\")\n",
        "movies_avg = pd.concat([index, values], axis=1)\n",
        "movies_avg.head()"
      ],
      "execution_count": null,
      "outputs": [
        {
          "output_type": "execute_result",
          "data": {
            "text/html": [
              "<div>\n",
              "<style scoped>\n",
              "    .dataframe tbody tr th:only-of-type {\n",
              "        vertical-align: middle;\n",
              "    }\n",
              "\n",
              "    .dataframe tbody tr th {\n",
              "        vertical-align: top;\n",
              "    }\n",
              "\n",
              "    .dataframe thead th {\n",
              "        text-align: right;\n",
              "    }\n",
              "</style>\n",
              "<table border=\"1\" class=\"dataframe\">\n",
              "  <thead>\n",
              "    <tr style=\"text-align: right;\">\n",
              "      <th></th>\n",
              "      <th>tconst</th>\n",
              "      <th>rating</th>\n",
              "    </tr>\n",
              "  </thead>\n",
              "  <tbody>\n",
              "    <tr>\n",
              "      <th>0</th>\n",
              "      <td>tt0000001</td>\n",
              "      <td>6.0</td>\n",
              "    </tr>\n",
              "    <tr>\n",
              "      <th>1</th>\n",
              "      <td>tt0000003</td>\n",
              "      <td>7.1</td>\n",
              "    </tr>\n",
              "    <tr>\n",
              "      <th>2</th>\n",
              "      <td>tt0000005</td>\n",
              "      <td>7.0</td>\n",
              "    </tr>\n",
              "    <tr>\n",
              "      <th>3</th>\n",
              "      <td>tt0000007</td>\n",
              "      <td>6.0</td>\n",
              "    </tr>\n",
              "    <tr>\n",
              "      <th>4</th>\n",
              "      <td>tt0000008</td>\n",
              "      <td>7.0</td>\n",
              "    </tr>\n",
              "  </tbody>\n",
              "</table>\n",
              "</div>"
            ],
            "text/plain": [
              "      tconst  rating\n",
              "0  tt0000001     6.0\n",
              "1  tt0000003     7.1\n",
              "2  tt0000005     7.0\n",
              "3  tt0000007     6.0\n",
              "4  tt0000008     7.0"
            ]
          },
          "metadata": {
            "tags": []
          },
          "execution_count": 22
        }
      ]
    },
    {
      "cell_type": "markdown",
      "metadata": {
        "id": "XTD-Qt7dUxq9"
      },
      "source": [
        "Si unisce il dataframe appena creato con il dataframe movies per aggiungere una valutazione generale per ogni titolo"
      ]
    },
    {
      "cell_type": "code",
      "metadata": {
        "id": "nryMjvtnUxq9",
        "outputId": "cdcce7c1-af64-4273-f65f-c59fc6cd13fc"
      },
      "source": [
        "movies_rated = movies.merge(movies_avg, left_on = 'tconst', right_on = 'tconst')\n",
        "movies_rated.head()"
      ],
      "execution_count": null,
      "outputs": [
        {
          "output_type": "execute_result",
          "data": {
            "text/html": [
              "<div>\n",
              "<style scoped>\n",
              "    .dataframe tbody tr th:only-of-type {\n",
              "        vertical-align: middle;\n",
              "    }\n",
              "\n",
              "    .dataframe tbody tr th {\n",
              "        vertical-align: top;\n",
              "    }\n",
              "\n",
              "    .dataframe thead th {\n",
              "        text-align: right;\n",
              "    }\n",
              "</style>\n",
              "<table border=\"1\" class=\"dataframe\">\n",
              "  <thead>\n",
              "    <tr style=\"text-align: right;\">\n",
              "      <th></th>\n",
              "      <th>tconst</th>\n",
              "      <th>type</th>\n",
              "      <th>title</th>\n",
              "      <th>isAdult</th>\n",
              "      <th>year</th>\n",
              "      <th>minutes</th>\n",
              "      <th>genres</th>\n",
              "      <th>rating</th>\n",
              "    </tr>\n",
              "  </thead>\n",
              "  <tbody>\n",
              "    <tr>\n",
              "      <th>0</th>\n",
              "      <td>tt0000001</td>\n",
              "      <td>short</td>\n",
              "      <td>Carmencita</td>\n",
              "      <td>0</td>\n",
              "      <td>1894</td>\n",
              "      <td>1</td>\n",
              "      <td>Documentary,Short</td>\n",
              "      <td>6.0</td>\n",
              "    </tr>\n",
              "    <tr>\n",
              "      <th>1</th>\n",
              "      <td>tt0000003</td>\n",
              "      <td>short</td>\n",
              "      <td>Pauvre Pierrot</td>\n",
              "      <td>0</td>\n",
              "      <td>1892</td>\n",
              "      <td>4</td>\n",
              "      <td>Animation,Comedy,Romance</td>\n",
              "      <td>7.1</td>\n",
              "    </tr>\n",
              "    <tr>\n",
              "      <th>2</th>\n",
              "      <td>tt0000005</td>\n",
              "      <td>short</td>\n",
              "      <td>Blacksmith Scene</td>\n",
              "      <td>0</td>\n",
              "      <td>1893</td>\n",
              "      <td>1</td>\n",
              "      <td>Comedy,Short</td>\n",
              "      <td>7.0</td>\n",
              "    </tr>\n",
              "    <tr>\n",
              "      <th>3</th>\n",
              "      <td>tt0000007</td>\n",
              "      <td>short</td>\n",
              "      <td>Corbett and Courtney Before the Kinetograph</td>\n",
              "      <td>0</td>\n",
              "      <td>1894</td>\n",
              "      <td>1</td>\n",
              "      <td>Short,Sport</td>\n",
              "      <td>6.0</td>\n",
              "    </tr>\n",
              "    <tr>\n",
              "      <th>4</th>\n",
              "      <td>tt0000008</td>\n",
              "      <td>short</td>\n",
              "      <td>Edison Kinetoscopic Record of a Sneeze</td>\n",
              "      <td>0</td>\n",
              "      <td>1894</td>\n",
              "      <td>1</td>\n",
              "      <td>Documentary,Short</td>\n",
              "      <td>7.0</td>\n",
              "    </tr>\n",
              "  </tbody>\n",
              "</table>\n",
              "</div>"
            ],
            "text/plain": [
              "      tconst   type                                        title  isAdult  \\\n",
              "0  tt0000001  short                                   Carmencita        0   \n",
              "1  tt0000003  short                               Pauvre Pierrot        0   \n",
              "2  tt0000005  short                             Blacksmith Scene        0   \n",
              "3  tt0000007  short  Corbett and Courtney Before the Kinetograph        0   \n",
              "4  tt0000008  short       Edison Kinetoscopic Record of a Sneeze        0   \n",
              "\n",
              "   year  minutes                    genres  rating  \n",
              "0  1894        1         Documentary,Short     6.0  \n",
              "1  1892        4  Animation,Comedy,Romance     7.1  \n",
              "2  1893        1              Comedy,Short     7.0  \n",
              "3  1894        1               Short,Sport     6.0  \n",
              "4  1894        1         Documentary,Short     7.0  "
            ]
          },
          "metadata": {
            "tags": []
          },
          "execution_count": 23
        }
      ]
    },
    {
      "cell_type": "markdown",
      "metadata": {
        "id": "zKmiaWUIUxq-"
      },
      "source": [
        "Si associano i vari titoli alle relative valutazioni di ogni singolo utente"
      ]
    },
    {
      "cell_type": "code",
      "metadata": {
        "id": "GFTJbOBeUxq-",
        "outputId": "38881983-7d34-40fa-dcc9-9bdd829c08e5"
      },
      "source": [
        "ur = user_ratings.merge(movies_rated[[\"tconst\",\"title\"]], left_on = 'tconst', right_on = 'tconst')\n",
        "ur.rename(columns = {'rating':'user_rating'}, inplace = True)\n",
        "ur = ur[[\"user_id\",\"title\",\"user_rating\"]].sort_values(\"user_id\")\n",
        "ur.reset_index(drop=True, inplace=True)\n",
        "ur.head()"
      ],
      "execution_count": null,
      "outputs": [
        {
          "output_type": "execute_result",
          "data": {
            "text/html": [
              "<div>\n",
              "<style scoped>\n",
              "    .dataframe tbody tr th:only-of-type {\n",
              "        vertical-align: middle;\n",
              "    }\n",
              "\n",
              "    .dataframe tbody tr th {\n",
              "        vertical-align: top;\n",
              "    }\n",
              "\n",
              "    .dataframe thead th {\n",
              "        text-align: right;\n",
              "    }\n",
              "</style>\n",
              "<table border=\"1\" class=\"dataframe\">\n",
              "  <thead>\n",
              "    <tr style=\"text-align: right;\">\n",
              "      <th></th>\n",
              "      <th>user_id</th>\n",
              "      <th>title</th>\n",
              "      <th>user_rating</th>\n",
              "    </tr>\n",
              "  </thead>\n",
              "  <tbody>\n",
              "    <tr>\n",
              "      <th>0</th>\n",
              "      <td>ur0000001</td>\n",
              "      <td>The Final Destination</td>\n",
              "      <td>4</td>\n",
              "    </tr>\n",
              "    <tr>\n",
              "      <th>1</th>\n",
              "      <td>ur0000002</td>\n",
              "      <td>Alongside Night</td>\n",
              "      <td>3</td>\n",
              "    </tr>\n",
              "    <tr>\n",
              "      <th>2</th>\n",
              "      <td>ur0000002</td>\n",
              "      <td>Jinn</td>\n",
              "      <td>3</td>\n",
              "    </tr>\n",
              "    <tr>\n",
              "      <th>3</th>\n",
              "      <td>ur0000002</td>\n",
              "      <td>Freddy Got Fingered</td>\n",
              "      <td>2</td>\n",
              "    </tr>\n",
              "    <tr>\n",
              "      <th>4</th>\n",
              "      <td>ur0000002</td>\n",
              "      <td>Disturbing Behavior</td>\n",
              "      <td>4</td>\n",
              "    </tr>\n",
              "  </tbody>\n",
              "</table>\n",
              "</div>"
            ],
            "text/plain": [
              "     user_id                  title  user_rating\n",
              "0  ur0000001  The Final Destination            4\n",
              "1  ur0000002        Alongside Night            3\n",
              "2  ur0000002                   Jinn            3\n",
              "3  ur0000002    Freddy Got Fingered            2\n",
              "4  ur0000002    Disturbing Behavior            4"
            ]
          },
          "metadata": {
            "tags": []
          },
          "execution_count": 24
        }
      ]
    },
    {
      "cell_type": "code",
      "metadata": {
        "id": "BmHOd5w1Uxq_",
        "outputId": "fa07234b-a1cc-4cc7-f50e-e727242f6c09"
      },
      "source": [
        "ur.size"
      ],
      "execution_count": null,
      "outputs": [
        {
          "output_type": "execute_result",
          "data": {
            "text/plain": [
              "12775239"
            ]
          },
          "metadata": {
            "tags": []
          },
          "execution_count": 25
        }
      ]
    },
    {
      "cell_type": "markdown",
      "metadata": {
        "id": "P9k9SA7xUxrA"
      },
      "source": [
        "Il dataframe è troppo voluminoso quindi si rimuovono tutti i duplicati e si limita la dimensione a 500 utenti"
      ]
    },
    {
      "cell_type": "code",
      "metadata": {
        "id": "7P5vlkTgUxrA"
      },
      "source": [
        "lim_ur = ur.drop_duplicates(subset=['user_id','title'], keep='first')\n",
        "lim_ur = lim_df(lim_ur, 200)"
      ],
      "execution_count": null,
      "outputs": []
    },
    {
      "cell_type": "code",
      "metadata": {
        "id": "POVSMu30UxrA",
        "outputId": "cb35636b-5b7c-46f6-eb45-698c97d51c4c"
      },
      "source": [
        "lim_ur.size"
      ],
      "execution_count": null,
      "outputs": [
        {
          "output_type": "execute_result",
          "data": {
            "text/plain": [
              "6426"
            ]
          },
          "metadata": {
            "tags": []
          },
          "execution_count": 27
        }
      ]
    },
    {
      "cell_type": "markdown",
      "metadata": {
        "id": "BRZb9ORdUxrB"
      },
      "source": [
        "Si creano due insiemi per l'addestramento e la validazione dei dati"
      ]
    },
    {
      "cell_type": "code",
      "metadata": {
        "id": "rsLTQEANUxrB"
      },
      "source": [
        "from sklearn.model_selection import train_test_split\n",
        "data_train, data_test = train_test_split(lim_ur, test_size=1/3, random_state=42)"
      ],
      "execution_count": null,
      "outputs": []
    },
    {
      "cell_type": "markdown",
      "metadata": {
        "id": "S-EWnMWyUxrB"
      },
      "source": [
        "Viene impostato come indice del frame la coppia di colonne `user` e `title`"
      ]
    },
    {
      "cell_type": "code",
      "metadata": {
        "id": "6sGurwbqUxrC"
      },
      "source": [
        "data_train.set_index([\"user_id\",\"title\"], inplace=True)"
      ],
      "execution_count": null,
      "outputs": []
    },
    {
      "cell_type": "code",
      "metadata": {
        "id": "4oz8O5dMUxrC",
        "outputId": "dcac0ae0-e6fa-473c-924a-f15f1260bc59"
      },
      "source": [
        "data_train.head()"
      ],
      "execution_count": null,
      "outputs": [
        {
          "output_type": "execute_result",
          "data": {
            "text/html": [
              "<div>\n",
              "<style scoped>\n",
              "    .dataframe tbody tr th:only-of-type {\n",
              "        vertical-align: middle;\n",
              "    }\n",
              "\n",
              "    .dataframe tbody tr th {\n",
              "        vertical-align: top;\n",
              "    }\n",
              "\n",
              "    .dataframe thead th {\n",
              "        text-align: right;\n",
              "    }\n",
              "</style>\n",
              "<table border=\"1\" class=\"dataframe\">\n",
              "  <thead>\n",
              "    <tr style=\"text-align: right;\">\n",
              "      <th></th>\n",
              "      <th></th>\n",
              "      <th>user_rating</th>\n",
              "    </tr>\n",
              "    <tr>\n",
              "      <th>user_id</th>\n",
              "      <th>title</th>\n",
              "      <th></th>\n",
              "    </tr>\n",
              "  </thead>\n",
              "  <tbody>\n",
              "    <tr>\n",
              "      <th>ur0001220</th>\n",
              "      <th>The Doll Squad</th>\n",
              "      <td>4</td>\n",
              "    </tr>\n",
              "    <tr>\n",
              "      <th>ur0000013</th>\n",
              "      <th>Puss in Books: Adventures of the Library Cat</th>\n",
              "      <td>10</td>\n",
              "    </tr>\n",
              "    <tr>\n",
              "      <th>ur0002369</th>\n",
              "      <th>King David</th>\n",
              "      <td>5</td>\n",
              "    </tr>\n",
              "    <tr>\n",
              "      <th rowspan=\"2\" valign=\"top\">ur0002746</th>\n",
              "      <th>The Lord of the Rings: The Return of the King</th>\n",
              "      <td>10</td>\n",
              "    </tr>\n",
              "    <tr>\n",
              "      <th>The Rare Breed</th>\n",
              "      <td>7</td>\n",
              "    </tr>\n",
              "  </tbody>\n",
              "</table>\n",
              "</div>"
            ],
            "text/plain": [
              "                                                         user_rating\n",
              "user_id   title                                                     \n",
              "ur0001220 The Doll Squad                                           4\n",
              "ur0000013 Puss in Books: Adventures of the Library Cat            10\n",
              "ur0002369 King David                                               5\n",
              "ur0002746 The Lord of the Rings: The Return of the King           10\n",
              "          The Rare Breed                                           7"
            ]
          },
          "metadata": {
            "tags": []
          },
          "execution_count": 30
        }
      ]
    },
    {
      "cell_type": "markdown",
      "metadata": {
        "id": "_Y7_7gJmUxrD"
      },
      "source": [
        "Si procede con l'estrazione di una matrice utenti per titoli dove: \n",
        "  - ogni riga corrisponde ad un utente $u$\n",
        "  - ogni colonna corrisponde ad un titolo $i$\n",
        "  - ogni cella contiene il voto dato dall'utente $u$ a al titolo $t$"
      ]
    },
    {
      "cell_type": "markdown",
      "metadata": {
        "id": "4Joa7O3DUxrD"
      },
      "source": [
        "Si esegue l'operazione di pivoting `unstack` sull'unica colonna rimasta `user_rating` per portare i titoli dall'indice delle righe a quello delle colonne"
      ]
    },
    {
      "cell_type": "code",
      "metadata": {
        "id": "nyYay4FOUxrE"
      },
      "source": [
        "train_ratings = data_train[\"user_rating\"].unstack(\"title\") "
      ],
      "execution_count": null,
      "outputs": []
    },
    {
      "cell_type": "code",
      "metadata": {
        "id": "ELcjGNLCUxrE",
        "outputId": "85c0ef46-f97d-4a84-c962-39ee60a74bb6"
      },
      "source": [
        "train_ratings.iloc[:5, :5]"
      ],
      "execution_count": null,
      "outputs": [
        {
          "output_type": "execute_result",
          "data": {
            "text/html": [
              "<div>\n",
              "<style scoped>\n",
              "    .dataframe tbody tr th:only-of-type {\n",
              "        vertical-align: middle;\n",
              "    }\n",
              "\n",
              "    .dataframe tbody tr th {\n",
              "        vertical-align: top;\n",
              "    }\n",
              "\n",
              "    .dataframe thead th {\n",
              "        text-align: right;\n",
              "    }\n",
              "</style>\n",
              "<table border=\"1\" class=\"dataframe\">\n",
              "  <thead>\n",
              "    <tr style=\"text-align: right;\">\n",
              "      <th>title</th>\n",
              "      <th>'Tis Autumn: The Search for Jackie Paris</th>\n",
              "      <th>10 Cloverfield Lane</th>\n",
              "      <th>10 pesos</th>\n",
              "      <th>12 Angry Men</th>\n",
              "      <th>12:08 East of Bucharest</th>\n",
              "    </tr>\n",
              "    <tr>\n",
              "      <th>user_id</th>\n",
              "      <th></th>\n",
              "      <th></th>\n",
              "      <th></th>\n",
              "      <th></th>\n",
              "      <th></th>\n",
              "    </tr>\n",
              "  </thead>\n",
              "  <tbody>\n",
              "    <tr>\n",
              "      <th>ur0000001</th>\n",
              "      <td>NaN</td>\n",
              "      <td>NaN</td>\n",
              "      <td>NaN</td>\n",
              "      <td>NaN</td>\n",
              "      <td>NaN</td>\n",
              "    </tr>\n",
              "    <tr>\n",
              "      <th>ur0000002</th>\n",
              "      <td>NaN</td>\n",
              "      <td>NaN</td>\n",
              "      <td>NaN</td>\n",
              "      <td>NaN</td>\n",
              "      <td>NaN</td>\n",
              "    </tr>\n",
              "    <tr>\n",
              "      <th>ur0000005</th>\n",
              "      <td>NaN</td>\n",
              "      <td>NaN</td>\n",
              "      <td>NaN</td>\n",
              "      <td>NaN</td>\n",
              "      <td>NaN</td>\n",
              "    </tr>\n",
              "    <tr>\n",
              "      <th>ur0000011</th>\n",
              "      <td>NaN</td>\n",
              "      <td>NaN</td>\n",
              "      <td>NaN</td>\n",
              "      <td>NaN</td>\n",
              "      <td>NaN</td>\n",
              "    </tr>\n",
              "    <tr>\n",
              "      <th>ur0000013</th>\n",
              "      <td>NaN</td>\n",
              "      <td>NaN</td>\n",
              "      <td>NaN</td>\n",
              "      <td>NaN</td>\n",
              "      <td>NaN</td>\n",
              "    </tr>\n",
              "  </tbody>\n",
              "</table>\n",
              "</div>"
            ],
            "text/plain": [
              "title      'Tis Autumn: The Search for Jackie Paris  10 Cloverfield Lane  \\\n",
              "user_id                                                                    \n",
              "ur0000001                                       NaN                  NaN   \n",
              "ur0000002                                       NaN                  NaN   \n",
              "ur0000005                                       NaN                  NaN   \n",
              "ur0000011                                       NaN                  NaN   \n",
              "ur0000013                                       NaN                  NaN   \n",
              "\n",
              "title      10 pesos  12 Angry Men  12:08 East of Bucharest  \n",
              "user_id                                                     \n",
              "ur0000001       NaN           NaN                      NaN  \n",
              "ur0000002       NaN           NaN                      NaN  \n",
              "ur0000005       NaN           NaN                      NaN  \n",
              "ur0000011       NaN           NaN                      NaN  \n",
              "ur0000013       NaN           NaN                      NaN  "
            ]
          },
          "metadata": {
            "tags": []
          },
          "execution_count": 32
        }
      ]
    },
    {
      "cell_type": "markdown",
      "metadata": {
        "id": "g9ewaXfUUxrF"
      },
      "source": [
        "## 3) Creazione di modelli"
      ]
    },
    {
      "cell_type": "markdown",
      "metadata": {
        "id": "5oT7in7HUxrF"
      },
      "source": [
        "###  Raccomendation User-based Collaborative Filtering con similarità coseno"
      ]
    },
    {
      "cell_type": "markdown",
      "metadata": {
        "id": "KXKPRuoyUxrG"
      },
      "source": [
        "- La <b>recommendation user-based</b>, pemette la previsione di un voto $\\hat{r}_{u,t}$ per un titolo $t$ da un utente $u$  in base ai voti dati da altri utenti a $t$, pesati proporzionalmente alla loro somiglianza con l'utente $u$.\n",
        "- Per calcolare la somiglianza si usa la <b>similarità coseno</b> $\\text{sim}(u,v)$ che trova l'angolo formato tra tra due vettori che in questo caso sono le valutazioni tra i due utenti $u$ e $v$\n",
        "- Nell'approccio <b>collaborative filtering</b> si usa la similarità coseno confrontando i voti dati da entrambi gli utenti"
      ]
    },
    {
      "cell_type": "code",
      "metadata": {
        "id": "3zyBk3ttUxrG",
        "outputId": "4e859e59-d0ab-4d3c-a479-7d3fffd33aea"
      },
      "source": [
        "R = train_ratings.fillna(0).values\n",
        "R[:5,:5]"
      ],
      "execution_count": null,
      "outputs": [
        {
          "output_type": "execute_result",
          "data": {
            "text/plain": [
              "array([[0., 0., 0., 0., 0.],\n",
              "       [0., 0., 0., 0., 0.],\n",
              "       [0., 0., 0., 0., 0.],\n",
              "       [0., 0., 0., 0., 0.],\n",
              "       [0., 0., 0., 0., 0.]])"
            ]
          },
          "metadata": {
            "tags": []
          },
          "execution_count": 33
        }
      ]
    },
    {
      "cell_type": "code",
      "metadata": {
        "id": "RFBsQKpGUxrH",
        "outputId": "f8c2a633-1572-4752-e5c3-4b00d87ba486"
      },
      "source": [
        "P = train_ratings.notna().values\n",
        "P[:5,:5]"
      ],
      "execution_count": null,
      "outputs": [
        {
          "output_type": "execute_result",
          "data": {
            "text/plain": [
              "array([[False, False, False, False, False],\n",
              "       [False, False, False, False, False],\n",
              "       [False, False, False, False, False],\n",
              "       [False, False, False, False, False],\n",
              "       [False, False, False, False, False]])"
            ]
          },
          "metadata": {
            "tags": []
          },
          "execution_count": 34
        }
      ]
    },
    {
      "cell_type": "markdown",
      "metadata": {
        "id": "wT4z7GfAUxrH"
      },
      "source": [
        "Si procede calcolando numeratore e denominatore"
      ]
    },
    {
      "cell_type": "code",
      "metadata": {
        "id": "opWZRAf5UxrI"
      },
      "source": [
        "cos_num = R @ R.T"
      ],
      "execution_count": null,
      "outputs": []
    },
    {
      "cell_type": "code",
      "metadata": {
        "id": "gb8Torr4UxrI"
      },
      "source": [
        "P_and = P[:, None, :] & P[None, :, :]\n",
        "R_com = P_and * R[:, None, :]\n",
        "R_com_rss = np.sqrt(np.sum(np.square(R_com), 2))\n",
        "cos_den = R_com_rss * R_com_rss.T"
      ],
      "execution_count": null,
      "outputs": []
    },
    {
      "cell_type": "code",
      "metadata": {
        "id": "C2yAU-xUUxrJ",
        "outputId": "cac04bc4-ff44-4b8d-8006-c70d4b348a87"
      },
      "source": [
        "cos = cos_num / cos_den\n",
        "cos[np.isnan(cos)] = 0\n",
        "cos[:5, :5]"
      ],
      "execution_count": null,
      "outputs": [
        {
          "output_type": "stream",
          "text": [
            "C:\\Users\\luca2\\anaconda3\\lib\\site-packages\\ipykernel_launcher.py:1: RuntimeWarning: invalid value encountered in true_divide\n",
            "  \"\"\"Entry point for launching an IPython kernel.\n"
          ],
          "name": "stderr"
        },
        {
          "output_type": "execute_result",
          "data": {
            "text/plain": [
              "array([[1., 0., 0., 0., 0.],\n",
              "       [0., 1., 0., 0., 0.],\n",
              "       [0., 0., 1., 0., 0.],\n",
              "       [0., 0., 0., 1., 0.],\n",
              "       [0., 0., 0., 0., 1.]])"
            ]
          },
          "metadata": {
            "tags": []
          },
          "execution_count": 37
        }
      ]
    },
    {
      "cell_type": "markdown",
      "metadata": {
        "id": "5XIBrqFiUxrJ"
      },
      "source": [
        "Si definisce una funzione che dati gli indici utente $u$ e titolo $t$ venga restituito il voto predetto"
      ]
    },
    {
      "cell_type": "code",
      "metadata": {
        "id": "J6RCr6xpUxrK"
      },
      "source": [
        "def predict_from_all(u, t):\n",
        "    other_users = list(np.where(P[:, t])[0])\n",
        "    predicted_vote = (cos[u, other_users] @ R[other_users, t]) / cos[u, other_users].sum()\n",
        "    return predicted_vote if not np.isnan(predicted_vote) else R[P].mean()"
      ],
      "execution_count": null,
      "outputs": []
    },
    {
      "cell_type": "code",
      "metadata": {
        "id": "tnGiyqNEUxrM",
        "outputId": "d4f96a1a-093b-4958-e98a-f62c9ce574f5"
      },
      "source": [
        "predict_from_all(4, 1)"
      ],
      "execution_count": null,
      "outputs": [
        {
          "output_type": "stream",
          "text": [
            "C:\\Users\\luca2\\anaconda3\\lib\\site-packages\\ipykernel_launcher.py:3: RuntimeWarning: invalid value encountered in double_scalars\n",
            "  This is separate from the ipykernel package so we can avoid doing imports until\n"
          ],
          "name": "stderr"
        },
        {
          "output_type": "execute_result",
          "data": {
            "text/plain": [
              "6.506302521008403"
            ]
          },
          "metadata": {
            "tags": []
          },
          "execution_count": 39
        }
      ]
    },
    {
      "cell_type": "markdown",
      "metadata": {
        "id": "Zw77y7E_UxrN"
      },
      "source": [
        "Si eseguono le operazioni di indicizzazione sui dati di validazione "
      ]
    },
    {
      "cell_type": "code",
      "metadata": {
        "id": "2Zt3BvrlUxrN"
      },
      "source": [
        "data_test.set_index([\"user_id\",\"title\"], inplace=True)\n",
        "val_ratings = data_test[\"user_rating\"].unstack(\"title\") \n",
        "val_ratings = val_ratings.reindex_like(train_ratings)"
      ],
      "execution_count": null,
      "outputs": []
    },
    {
      "cell_type": "markdown",
      "metadata": {
        "id": "TM-6QlrXUxrO"
      },
      "source": [
        "Si creano due matrici \n",
        "- R_val contenente i voti, uguali a 0 dove sono mancanti \n",
        "- P_val matrice booleana che indica per quali coppie utente-oggetto è presente un voto"
      ]
    },
    {
      "cell_type": "code",
      "metadata": {
        "id": "20RD__EfUxrO"
      },
      "source": [
        "R_val = val_ratings.fillna(0).values\n",
        "P_val = val_ratings.notna().values"
      ],
      "execution_count": null,
      "outputs": []
    },
    {
      "cell_type": "markdown",
      "metadata": {
        "id": "yniWLC1iUxrP"
      },
      "source": [
        "Si definisce un vettore `val_actual` con tutti i voti definiti nel validation set"
      ]
    },
    {
      "cell_type": "code",
      "metadata": {
        "id": "N_thnJUTUxrP"
      },
      "source": [
        "val_actual = R_val[P_val]"
      ],
      "execution_count": null,
      "outputs": []
    },
    {
      "cell_type": "markdown",
      "metadata": {
        "id": "FQ34NzmZUxrQ"
      },
      "source": [
        "Si definisce una funzione che effettui le previsioni dei voti di tutte le coppie utente $u$, titolo $t$ (che hanno già un voto val_actual) sui dati di validazione"
      ]
    },
    {
      "cell_type": "code",
      "metadata": {
        "id": "cBL7gWuXUxrQ"
      },
      "source": [
        "def get_val_predictions(pred_func):\n",
        "    return np.array([pred_func(u, t)\n",
        "                     for u, t in zip(*np.where(P_val))])"
      ],
      "execution_count": null,
      "outputs": []
    },
    {
      "cell_type": "code",
      "metadata": {
        "id": "jINFAVVcUxrR",
        "outputId": "989c9272-0d77-4a6c-81a2-49946e81df17"
      },
      "source": [
        "val_predictions = get_val_predictions(predict_from_all)"
      ],
      "execution_count": null,
      "outputs": [
        {
          "output_type": "stream",
          "text": [
            "C:\\Users\\luca2\\anaconda3\\lib\\site-packages\\ipykernel_launcher.py:3: RuntimeWarning: invalid value encountered in double_scalars\n",
            "  This is separate from the ipykernel package so we can avoid doing imports until\n"
          ],
          "name": "stderr"
        }
      ]
    },
    {
      "cell_type": "code",
      "metadata": {
        "id": "Mv-A9VvjUxrR",
        "outputId": "02918189-a681-4a57-bdd8-fc580558bab4"
      },
      "source": [
        "val_predictions"
      ],
      "execution_count": null,
      "outputs": [
        {
          "output_type": "execute_result",
          "data": {
            "text/plain": [
              "array([ 6.50630252,  6.50630252,  6.50630252,  9.        ,  6.50630252,\n",
              "        6.50630252,  6.50630252,  6.50630252,  6.50630252,  6.50630252,\n",
              "        6.50630252,  6.50630252,  6.50630252,  6.50630252,  9.        ,\n",
              "        6.50630252,  6.50630252,  6.50630252,  6.50630252,  6.50630252,\n",
              "        6.50630252, 10.        ,  9.        ,  6.        ,  9.        ,\n",
              "        6.50630252,  6.50630252,  8.        ,  6.50630252,  8.        ,\n",
              "        6.        ,  6.50630252,  6.50630252,  8.        ,  6.50630252,\n",
              "        9.        ,  6.50630252,  6.50630252,  6.50630252,  6.50630252,\n",
              "        6.50630252,  6.50630252,  6.50630252,  6.50630252,  6.50630252,\n",
              "        5.        ,  6.50630252,  6.50630252,  5.        ,  6.50630252,\n",
              "        6.50630252,  6.50630252,  4.        ,  6.50630252,  6.50630252,\n",
              "        7.        ,  6.50630252,  6.50630252,  4.        ,  6.50630252,\n",
              "        4.        ,  6.50630252,  6.50630252,  6.        ,  6.        ,\n",
              "        6.        ,  6.50630252,  6.50630252,  6.50630252,  9.        ,\n",
              "        6.50630252,  6.50630252,  6.50630252,  8.        ,  5.        ,\n",
              "        6.50630252,  6.50630252,  6.50630252,  9.        ,  6.50630252,\n",
              "        6.        ,  6.50630252,  7.        ,  4.        ,  6.50630252,\n",
              "        8.        ,  4.        ,  8.        ])"
            ]
          },
          "metadata": {
            "tags": []
          },
          "execution_count": 45
        }
      ]
    },
    {
      "cell_type": "code",
      "metadata": {
        "id": "HdcAZztcUxrS",
        "outputId": "9cfcb2aa-254c-40ac-d436-49e81f62a5dc"
      },
      "source": [
        "val_actual"
      ],
      "execution_count": null,
      "outputs": [
        {
          "output_type": "execute_result",
          "data": {
            "text/plain": [
              "array([ 2.,  6.,  6.,  1.,  3.,  5.,  9.,  8.,  6.,  9.,  3.,  9.,  8.,\n",
              "        5.,  7.,  9., 10.,  5.,  5.,  8.,  5.,  7.,  6.,  8.,  6., 10.,\n",
              "        9.,  7.,  8.,  7.,  7.,  6.,  3., 10.,  9.,  6.,  6.,  5.,  8.,\n",
              "        4.,  1.,  9.,  9.,  5., 10.,  7.,  7.,  1.,  9., 10.,  9.,  7.,\n",
              "        6.,  3., 10.,  6.,  7.,  8.,  6.,  4.,  5.,  5.,  9.,  3.,  9.,\n",
              "        6., 10.,  6., 10., 10.,  8.,  6.,  9.,  8.,  7.,  8.,  9.,  9.,\n",
              "        6.,  3.,  9.,  6.,  7.,  7.,  3.,  6.,  7.,  7.])"
            ]
          },
          "metadata": {
            "tags": []
          },
          "execution_count": 46
        }
      ]
    },
    {
      "cell_type": "markdown",
      "metadata": {
        "id": "9APoDlLkUxrS"
      },
      "source": [
        "Si definiscono le funzioni per il calcolo dell'errore quadratico medio RMSE e la media degli errori in valore assoluto MAE"
      ]
    },
    {
      "cell_type": "code",
      "metadata": {
        "id": "PrIfNc6QUxrT"
      },
      "source": [
        "def RMSE(actual, predicted):\n",
        "    return np.sqrt(np.mean(np.square(predicted - actual)))"
      ],
      "execution_count": null,
      "outputs": []
    },
    {
      "cell_type": "code",
      "metadata": {
        "scrolled": true,
        "id": "zjyPCM7eUxrT"
      },
      "source": [
        "rmse = RMSE(val_actual, val_predictions)"
      ],
      "execution_count": null,
      "outputs": []
    },
    {
      "cell_type": "code",
      "metadata": {
        "id": "msdvr8iEUxrU"
      },
      "source": [
        "def MAE(actual, predicted):\n",
        "    return np.mean(abs(predicted - actual))"
      ],
      "execution_count": null,
      "outputs": []
    },
    {
      "cell_type": "code",
      "metadata": {
        "id": "PwZPKm8sUxrU"
      },
      "source": [
        "mae = MAE(val_actual, val_predictions)"
      ],
      "execution_count": null,
      "outputs": []
    },
    {
      "cell_type": "markdown",
      "metadata": {
        "id": "Z9nABFHzUxrV"
      },
      "source": [
        "Si definisce una funzione che restituisca un dataframe con i rispettivi errori di accuratezza per ogni modello. "
      ]
    },
    {
      "cell_type": "code",
      "metadata": {
        "id": "cmbVOX3LUxrV"
      },
      "source": [
        "def update_accuracy(df, model, rmse, mae):\n",
        "    return df.append(pd.DataFrame([[model, rmse, mae]], columns=df.columns), ignore_index=True)"
      ],
      "execution_count": null,
      "outputs": []
    },
    {
      "cell_type": "code",
      "metadata": {
        "id": "mZWCi99SUxrW",
        "outputId": "3724b37e-601b-45ee-c769-bc9463e2abd0"
      },
      "source": [
        "accuracy = pd.DataFrame(columns=[\"model\",\"RMSE\",\"MAE\"])\n",
        "accuracy = update_accuracy(accuracy, \"cf\", rmse, mae)\n",
        "accuracy"
      ],
      "execution_count": null,
      "outputs": [
        {
          "output_type": "execute_result",
          "data": {
            "text/html": [
              "<div>\n",
              "<style scoped>\n",
              "    .dataframe tbody tr th:only-of-type {\n",
              "        vertical-align: middle;\n",
              "    }\n",
              "\n",
              "    .dataframe tbody tr th {\n",
              "        vertical-align: top;\n",
              "    }\n",
              "\n",
              "    .dataframe thead th {\n",
              "        text-align: right;\n",
              "    }\n",
              "</style>\n",
              "<table border=\"1\" class=\"dataframe\">\n",
              "  <thead>\n",
              "    <tr style=\"text-align: right;\">\n",
              "      <th></th>\n",
              "      <th>model</th>\n",
              "      <th>RMSE</th>\n",
              "      <th>MAE</th>\n",
              "    </tr>\n",
              "  </thead>\n",
              "  <tbody>\n",
              "    <tr>\n",
              "      <th>0</th>\n",
              "      <td>cf</td>\n",
              "      <td>2.570237</td>\n",
              "      <td>2.192895</td>\n",
              "    </tr>\n",
              "  </tbody>\n",
              "</table>\n",
              "</div>"
            ],
            "text/plain": [
              "  model      RMSE       MAE\n",
              "0    cf  2.570237  2.192895"
            ]
          },
          "metadata": {
            "tags": []
          },
          "execution_count": 52
        }
      ]
    },
    {
      "cell_type": "markdown",
      "metadata": {
        "id": "hezTlycnUxrW"
      },
      "source": [
        "Da quest'analisi possiamo notare che sia il MAE che l'RMSE sono poco accurati utilizzando questo tipo di approccio."
      ]
    },
    {
      "cell_type": "markdown",
      "metadata": {
        "id": "SK-thS-tUxrX"
      },
      "source": [
        "## Surprise"
      ]
    },
    {
      "cell_type": "markdown",
      "metadata": {
        "id": "dDtIbI5_UxrX"
      },
      "source": [
        "Surprise è una libreria che premette di eseguire un'analisi di studio nella creazione e validazione di modelli di recommendation"
      ]
    },
    {
      "cell_type": "code",
      "metadata": {
        "id": "Xnf2E7pmUxrY"
      },
      "source": [
        "from surprise import Dataset, Reader\n",
        "from surprise.model_selection import train_test_split\n",
        "reader = Reader(sep=\",\",rating_scale=(1, 10))"
      ],
      "execution_count": null,
      "outputs": []
    },
    {
      "cell_type": "markdown",
      "metadata": {
        "id": "iiwMIdlhUxrY"
      },
      "source": [
        "Si usa il dataframe limitato di user_ratings"
      ]
    },
    {
      "cell_type": "code",
      "metadata": {
        "scrolled": true,
        "id": "ehKmFTj3UxrZ"
      },
      "source": [
        "data = Dataset.load_from_df(lim_ur, reader)"
      ],
      "execution_count": null,
      "outputs": []
    },
    {
      "cell_type": "markdown",
      "metadata": {
        "id": "6IjK8KniUxra"
      },
      "source": [
        "I dati vengono siddivisi in due insiemi: addestramento e validazione."
      ]
    },
    {
      "cell_type": "code",
      "metadata": {
        "id": "q93Z0lsJUxrc"
      },
      "source": [
        "data_train, data_test = train_test_split(data, test_size=1/3, random_state=42)"
      ],
      "execution_count": null,
      "outputs": []
    },
    {
      "cell_type": "markdown",
      "metadata": {
        "id": "sN-gD6mRUxrd"
      },
      "source": [
        "Si estraggono alcune informazioni dall'insieme di addestramento"
      ]
    },
    {
      "cell_type": "code",
      "metadata": {
        "id": "b7U6jxBnUxre",
        "outputId": "65b3c4b5-957d-46ae-9ec2-f9c657a92c7b"
      },
      "source": [
        "print('Media globale:\\t\\t{:.2f}'.format(data_train.global_mean)) \n",
        "print('Numore utenti:\\t\\t{}'.format(data_train.n_users)) \n",
        "print('Numore titoli:\\t\\t{}'.format(data_train.n_items)) \n",
        "print('Numore valutazioni:\\t{}'.format(data_train.n_ratings)) "
      ],
      "execution_count": null,
      "outputs": [
        {
          "output_type": "stream",
          "text": [
            "Media globale:\t\t6.54\n",
            "Numore utenti:\t\t163\n",
            "Numore titoli:\t\t1329\n",
            "Numore valutazioni:\t1428\n"
          ],
          "name": "stdout"
        }
      ]
    },
    {
      "cell_type": "markdown",
      "metadata": {
        "id": "qFeGy43NUxrg"
      },
      "source": [
        "## Surprise KNNBasic con Similarità Coseno"
      ]
    },
    {
      "cell_type": "markdown",
      "metadata": {
        "id": "ns__YqK3Uxrg"
      },
      "source": [
        "Si crea un modello Surprise con la classe KNNBasic, usando similarità coseno e pearson, considerando una selezione di k utenti per ogni predizione, al fine di ottenere un modello migliore si usa anche la Cross-Fold-Validation"
      ]
    },
    {
      "cell_type": "code",
      "metadata": {
        "id": "ymS0aVmbUxrh"
      },
      "source": [
        "from surprise import KNNBasic\n",
        "from surprise.accuracy import rmse, mae\n",
        "from surprise.model_selection import cross_validate, KFold"
      ],
      "execution_count": null,
      "outputs": []
    },
    {
      "cell_type": "code",
      "metadata": {
        "id": "Cc-jcMjIUxrh"
      },
      "source": [
        "kf = KFold(n_splits=5, shuffle=True, random_state=42)"
      ],
      "execution_count": null,
      "outputs": []
    },
    {
      "cell_type": "code",
      "metadata": {
        "id": "jpCtAQTlUxrh",
        "outputId": "94120c22-10d1-40ca-c916-39db64fc6fdc"
      },
      "source": [
        "model = KNNBasic(k=10, sim_options={\"name\": \"cosine\"})\n",
        "cv_results = cross_validate(model, data, cv=kf)"
      ],
      "execution_count": null,
      "outputs": [
        {
          "output_type": "stream",
          "text": [
            "Computing the cosine similarity matrix...\n",
            "Done computing similarity matrix.\n",
            "Computing the cosine similarity matrix...\n",
            "Done computing similarity matrix.\n",
            "Computing the cosine similarity matrix...\n",
            "Done computing similarity matrix.\n",
            "Computing the cosine similarity matrix...\n",
            "Done computing similarity matrix.\n",
            "Computing the cosine similarity matrix...\n",
            "Done computing similarity matrix.\n"
          ],
          "name": "stdout"
        }
      ]
    },
    {
      "cell_type": "code",
      "metadata": {
        "id": "HrkK68nmUxri",
        "outputId": "e03870a8-3171-4f9c-97f8-5ae38a3779e7"
      },
      "source": [
        "results = pd.DataFrame(cv_results)\n",
        "results"
      ],
      "execution_count": null,
      "outputs": [
        {
          "output_type": "execute_result",
          "data": {
            "text/html": [
              "<div>\n",
              "<style scoped>\n",
              "    .dataframe tbody tr th:only-of-type {\n",
              "        vertical-align: middle;\n",
              "    }\n",
              "\n",
              "    .dataframe tbody tr th {\n",
              "        vertical-align: top;\n",
              "    }\n",
              "\n",
              "    .dataframe thead th {\n",
              "        text-align: right;\n",
              "    }\n",
              "</style>\n",
              "<table border=\"1\" class=\"dataframe\">\n",
              "  <thead>\n",
              "    <tr style=\"text-align: right;\">\n",
              "      <th></th>\n",
              "      <th>test_rmse</th>\n",
              "      <th>test_mae</th>\n",
              "      <th>fit_time</th>\n",
              "      <th>test_time</th>\n",
              "    </tr>\n",
              "  </thead>\n",
              "  <tbody>\n",
              "    <tr>\n",
              "      <th>0</th>\n",
              "      <td>2.146189</td>\n",
              "      <td>1.774712</td>\n",
              "      <td>0.003989</td>\n",
              "      <td>0.009973</td>\n",
              "    </tr>\n",
              "    <tr>\n",
              "      <th>1</th>\n",
              "      <td>2.081821</td>\n",
              "      <td>1.722636</td>\n",
              "      <td>0.004983</td>\n",
              "      <td>0.003989</td>\n",
              "    </tr>\n",
              "    <tr>\n",
              "      <th>2</th>\n",
              "      <td>2.118301</td>\n",
              "      <td>1.744010</td>\n",
              "      <td>0.001997</td>\n",
              "      <td>0.003988</td>\n",
              "    </tr>\n",
              "    <tr>\n",
              "      <th>3</th>\n",
              "      <td>2.220476</td>\n",
              "      <td>1.809586</td>\n",
              "      <td>0.001991</td>\n",
              "      <td>0.003989</td>\n",
              "    </tr>\n",
              "    <tr>\n",
              "      <th>4</th>\n",
              "      <td>2.039031</td>\n",
              "      <td>1.656407</td>\n",
              "      <td>0.001994</td>\n",
              "      <td>0.003989</td>\n",
              "    </tr>\n",
              "  </tbody>\n",
              "</table>\n",
              "</div>"
            ],
            "text/plain": [
              "   test_rmse  test_mae  fit_time  test_time\n",
              "0   2.146189  1.774712  0.003989   0.009973\n",
              "1   2.081821  1.722636  0.004983   0.003989\n",
              "2   2.118301  1.744010  0.001997   0.003988\n",
              "3   2.220476  1.809586  0.001991   0.003989\n",
              "4   2.039031  1.656407  0.001994   0.003989"
            ]
          },
          "metadata": {
            "tags": []
          },
          "execution_count": 60
        }
      ]
    },
    {
      "cell_type": "markdown",
      "metadata": {
        "id": "SYScuMyiUxri"
      },
      "source": [
        "Si esegue una predizione con predict tramite i parametri uid:indice degli user e iid:indice dei titoli"
      ]
    },
    {
      "cell_type": "code",
      "metadata": {
        "id": "a_1e1S6BUxrj",
        "outputId": "b0c5ec32-93a4-4dbb-80b1-dc99d66a0fb1"
      },
      "source": [
        "model.predict(1,1)"
      ],
      "execution_count": null,
      "outputs": [
        {
          "output_type": "execute_result",
          "data": {
            "text/plain": [
              "Prediction(uid=1, iid=1, r_ui=None, est=6.533838973162194, details={'was_impossible': True, 'reason': 'User and/or item is unknown.'})"
            ]
          },
          "metadata": {
            "tags": []
          },
          "execution_count": 61
        }
      ]
    },
    {
      "cell_type": "code",
      "metadata": {
        "id": "pmmc09XTUxrj",
        "outputId": "a823ab06-46cd-4a63-82f8-57f85ddd373e"
      },
      "source": [
        "model.fit(data_train)\n",
        "pred = model.test(data_test)\n",
        "rmse(pred), mae(pred)"
      ],
      "execution_count": null,
      "outputs": [
        {
          "output_type": "stream",
          "text": [
            "Computing the cosine similarity matrix...\n",
            "Done computing similarity matrix.\n",
            "RMSE: 2.1103\n",
            "MAE:  1.7107\n"
          ],
          "name": "stdout"
        },
        {
          "output_type": "execute_result",
          "data": {
            "text/plain": [
              "(2.1103433228362936, 1.710738250858055)"
            ]
          },
          "metadata": {
            "tags": []
          },
          "execution_count": 62
        }
      ]
    },
    {
      "cell_type": "code",
      "metadata": {
        "id": "bpLsEn1oUxrk"
      },
      "source": [
        "rmse2 = cv_results[\"test_rmse\"].mean()\n",
        "mae2 = cv_results[\"test_mae\"].mean()\n",
        "accuracy = update_accuracy(accuracy, \"cosine\", rmse2, mae2)"
      ],
      "execution_count": null,
      "outputs": []
    },
    {
      "cell_type": "markdown",
      "metadata": {
        "id": "kUP6vMsmUxrk"
      },
      "source": [
        "## Surprise KNNBasic con Similarità Pearson"
      ]
    },
    {
      "cell_type": "markdown",
      "metadata": {
        "id": "ONlAnQJTUxrk"
      },
      "source": [
        "Si ripete l'analisi con similarità pearson"
      ]
    },
    {
      "cell_type": "code",
      "metadata": {
        "id": "kGxeEcdvUxrl",
        "outputId": "ff1d96cd-ff3b-43d3-dba2-1083089c60ed"
      },
      "source": [
        "from surprise.accuracy import rmse, mae\n",
        "model = KNNBasic(k=10, sim_options={\"name\": \"pearson\"})\n",
        "cv_results = cross_validate(model, data, cv=kf)"
      ],
      "execution_count": null,
      "outputs": [
        {
          "output_type": "stream",
          "text": [
            "Computing the pearson similarity matrix...\n",
            "Done computing similarity matrix.\n",
            "Computing the pearson similarity matrix...\n",
            "Done computing similarity matrix.\n",
            "Computing the pearson similarity matrix...\n",
            "Done computing similarity matrix.\n",
            "Computing the pearson similarity matrix...\n",
            "Done computing similarity matrix.\n",
            "Computing the pearson similarity matrix...\n",
            "Done computing similarity matrix.\n"
          ],
          "name": "stdout"
        }
      ]
    },
    {
      "cell_type": "code",
      "metadata": {
        "id": "D1Xnen77Uxrl",
        "outputId": "710734f4-ac0f-41f3-deb3-92e641290976"
      },
      "source": [
        "pd.DataFrame(cv_results)"
      ],
      "execution_count": null,
      "outputs": [
        {
          "output_type": "execute_result",
          "data": {
            "text/html": [
              "<div>\n",
              "<style scoped>\n",
              "    .dataframe tbody tr th:only-of-type {\n",
              "        vertical-align: middle;\n",
              "    }\n",
              "\n",
              "    .dataframe tbody tr th {\n",
              "        vertical-align: top;\n",
              "    }\n",
              "\n",
              "    .dataframe thead th {\n",
              "        text-align: right;\n",
              "    }\n",
              "</style>\n",
              "<table border=\"1\" class=\"dataframe\">\n",
              "  <thead>\n",
              "    <tr style=\"text-align: right;\">\n",
              "      <th></th>\n",
              "      <th>test_rmse</th>\n",
              "      <th>test_mae</th>\n",
              "      <th>fit_time</th>\n",
              "      <th>test_time</th>\n",
              "    </tr>\n",
              "  </thead>\n",
              "  <tbody>\n",
              "    <tr>\n",
              "      <th>0</th>\n",
              "      <td>2.100714</td>\n",
              "      <td>1.736044</td>\n",
              "      <td>0.004995</td>\n",
              "      <td>0.010965</td>\n",
              "    </tr>\n",
              "    <tr>\n",
              "      <th>1</th>\n",
              "      <td>2.059976</td>\n",
              "      <td>1.708824</td>\n",
              "      <td>0.003990</td>\n",
              "      <td>0.005985</td>\n",
              "    </tr>\n",
              "    <tr>\n",
              "      <th>2</th>\n",
              "      <td>2.102699</td>\n",
              "      <td>1.735861</td>\n",
              "      <td>0.003989</td>\n",
              "      <td>0.007978</td>\n",
              "    </tr>\n",
              "    <tr>\n",
              "      <th>3</th>\n",
              "      <td>2.218063</td>\n",
              "      <td>1.811533</td>\n",
              "      <td>0.004986</td>\n",
              "      <td>0.008975</td>\n",
              "    </tr>\n",
              "    <tr>\n",
              "      <th>4</th>\n",
              "      <td>2.017342</td>\n",
              "      <td>1.646731</td>\n",
              "      <td>0.002990</td>\n",
              "      <td>0.008977</td>\n",
              "    </tr>\n",
              "  </tbody>\n",
              "</table>\n",
              "</div>"
            ],
            "text/plain": [
              "   test_rmse  test_mae  fit_time  test_time\n",
              "0   2.100714  1.736044  0.004995   0.010965\n",
              "1   2.059976  1.708824  0.003990   0.005985\n",
              "2   2.102699  1.735861  0.003989   0.007978\n",
              "3   2.218063  1.811533  0.004986   0.008975\n",
              "4   2.017342  1.646731  0.002990   0.008977"
            ]
          },
          "metadata": {
            "tags": []
          },
          "execution_count": 65
        }
      ]
    },
    {
      "cell_type": "code",
      "metadata": {
        "id": "bTqnAI0wUxrm",
        "outputId": "a637be9f-f457-49c6-ecc7-9f40d0689941"
      },
      "source": [
        "model.fit(data_train)\n",
        "pred = model.test(data_test)\n",
        "rmse(pred), mae(pred)"
      ],
      "execution_count": null,
      "outputs": [
        {
          "output_type": "stream",
          "text": [
            "Computing the pearson similarity matrix...\n",
            "Done computing similarity matrix.\n",
            "RMSE: 2.0744\n",
            "MAE:  1.6905\n"
          ],
          "name": "stdout"
        },
        {
          "output_type": "execute_result",
          "data": {
            "text/plain": [
              "(2.074407507400026, 1.6904732481227787)"
            ]
          },
          "metadata": {
            "tags": []
          },
          "execution_count": 66
        }
      ]
    },
    {
      "cell_type": "code",
      "metadata": {
        "id": "1KcfOsB7Uxrm"
      },
      "source": [
        "rmse3 = cv_results[\"test_rmse\"].mean()\n",
        "mae3 = cv_results[\"test_mae\"].mean()\n",
        "accuracy = update_accuracy(accuracy, \"pearson\", rmse3, mae3)"
      ],
      "execution_count": null,
      "outputs": []
    },
    {
      "cell_type": "markdown",
      "metadata": {
        "id": "63eNkBbxUxrm"
      },
      "source": [
        "## Surprise KNNWithMeans con Similarità Coseno"
      ]
    },
    {
      "cell_type": "markdown",
      "metadata": {
        "id": "3nYAD1CrUxrn"
      },
      "source": [
        "Si ripete l'analisi precedente con similarità coseno con medie."
      ]
    },
    {
      "cell_type": "code",
      "metadata": {
        "id": "QRk0Gy5DUxro",
        "outputId": "e999836f-2a21-4c79-ac26-883ada577204"
      },
      "source": [
        "from surprise import KNNWithMeans\n",
        "from surprise.accuracy import rmse, mae\n",
        "model = KNNWithMeans(k=10, sim_options={\"name\": \"cosine\"})\n",
        "cv_results = cross_validate(model, data, cv=kf)"
      ],
      "execution_count": null,
      "outputs": [
        {
          "output_type": "stream",
          "text": [
            "Computing the cosine similarity matrix...\n",
            "Done computing similarity matrix.\n",
            "Computing the cosine similarity matrix...\n",
            "Done computing similarity matrix.\n",
            "Computing the cosine similarity matrix...\n",
            "Done computing similarity matrix.\n",
            "Computing the cosine similarity matrix...\n",
            "Done computing similarity matrix.\n",
            "Computing the cosine similarity matrix...\n",
            "Done computing similarity matrix.\n"
          ],
          "name": "stdout"
        }
      ]
    },
    {
      "cell_type": "code",
      "metadata": {
        "id": "RdfOzPBQUxro",
        "outputId": "5dd9b47f-5971-4f24-cae4-568e873f6eb5"
      },
      "source": [
        "model.fit(data_train)\n",
        "pred = model.test(data_test)\n",
        "rmse(pred), mae(pred)"
      ],
      "execution_count": null,
      "outputs": [
        {
          "output_type": "stream",
          "text": [
            "Computing the cosine similarity matrix...\n",
            "Done computing similarity matrix.\n",
            "RMSE: 2.1214\n",
            "MAE:  1.7189\n"
          ],
          "name": "stdout"
        },
        {
          "output_type": "execute_result",
          "data": {
            "text/plain": [
              "(2.1214479897642415, 1.718935789163963)"
            ]
          },
          "metadata": {
            "tags": []
          },
          "execution_count": 69
        }
      ]
    },
    {
      "cell_type": "code",
      "metadata": {
        "id": "_EN2njjuUxrp",
        "outputId": "628e755d-d9a9-47dc-d560-5430ca0918ab"
      },
      "source": [
        "pd.DataFrame(cv_results)"
      ],
      "execution_count": null,
      "outputs": [
        {
          "output_type": "execute_result",
          "data": {
            "text/html": [
              "<div>\n",
              "<style scoped>\n",
              "    .dataframe tbody tr th:only-of-type {\n",
              "        vertical-align: middle;\n",
              "    }\n",
              "\n",
              "    .dataframe tbody tr th {\n",
              "        vertical-align: top;\n",
              "    }\n",
              "\n",
              "    .dataframe thead th {\n",
              "        text-align: right;\n",
              "    }\n",
              "</style>\n",
              "<table border=\"1\" class=\"dataframe\">\n",
              "  <thead>\n",
              "    <tr style=\"text-align: right;\">\n",
              "      <th></th>\n",
              "      <th>test_rmse</th>\n",
              "      <th>test_mae</th>\n",
              "      <th>fit_time</th>\n",
              "      <th>test_time</th>\n",
              "    </tr>\n",
              "  </thead>\n",
              "  <tbody>\n",
              "    <tr>\n",
              "      <th>0</th>\n",
              "      <td>2.168701</td>\n",
              "      <td>1.786116</td>\n",
              "      <td>0.010971</td>\n",
              "      <td>0.006981</td>\n",
              "    </tr>\n",
              "    <tr>\n",
              "      <th>1</th>\n",
              "      <td>2.082553</td>\n",
              "      <td>1.716795</td>\n",
              "      <td>0.011967</td>\n",
              "      <td>0.007986</td>\n",
              "    </tr>\n",
              "    <tr>\n",
              "      <th>2</th>\n",
              "      <td>2.131792</td>\n",
              "      <td>1.762832</td>\n",
              "      <td>0.004987</td>\n",
              "      <td>0.009975</td>\n",
              "    </tr>\n",
              "    <tr>\n",
              "      <th>3</th>\n",
              "      <td>2.233981</td>\n",
              "      <td>1.821734</td>\n",
              "      <td>0.004986</td>\n",
              "      <td>0.003989</td>\n",
              "    </tr>\n",
              "    <tr>\n",
              "      <th>4</th>\n",
              "      <td>2.029726</td>\n",
              "      <td>1.647669</td>\n",
              "      <td>0.004987</td>\n",
              "      <td>0.003989</td>\n",
              "    </tr>\n",
              "  </tbody>\n",
              "</table>\n",
              "</div>"
            ],
            "text/plain": [
              "   test_rmse  test_mae  fit_time  test_time\n",
              "0   2.168701  1.786116  0.010971   0.006981\n",
              "1   2.082553  1.716795  0.011967   0.007986\n",
              "2   2.131792  1.762832  0.004987   0.009975\n",
              "3   2.233981  1.821734  0.004986   0.003989\n",
              "4   2.029726  1.647669  0.004987   0.003989"
            ]
          },
          "metadata": {
            "tags": []
          },
          "execution_count": 70
        }
      ]
    },
    {
      "cell_type": "code",
      "metadata": {
        "id": "-_O6ypM2Uxrp"
      },
      "source": [
        "rmse4 = cv_results[\"test_rmse\"].mean()\n",
        "mae4 = cv_results[\"test_mae\"].mean()\n",
        "accuracy = update_accuracy(accuracy, \"means\", rmse4, mae4)"
      ],
      "execution_count": null,
      "outputs": []
    },
    {
      "cell_type": "markdown",
      "metadata": {
        "id": "5JhX97E1Uxrq"
      },
      "source": [
        "## Surprise KNNBasic con Similarità Coseno title-based"
      ]
    },
    {
      "cell_type": "markdown",
      "metadata": {
        "id": "xwmVy9VkUxrq"
      },
      "source": [
        "Si ripete l'analisi precedente con similarità coseno con approccio title-based."
      ]
    },
    {
      "cell_type": "code",
      "metadata": {
        "id": "ejwvRZhNUxrq",
        "outputId": "c878fee4-ed62-4351-c406-4d0b18a0a299"
      },
      "source": [
        "from surprise import KNNBasic\n",
        "model = KNNBasic(k=10, sim_options={\"name\": \"cosine\", \"user_based\": False})\n",
        "cv_results = cross_validate(model, data, cv=kf)"
      ],
      "execution_count": null,
      "outputs": [
        {
          "output_type": "stream",
          "text": [
            "Computing the cosine similarity matrix...\n",
            "Done computing similarity matrix.\n",
            "Computing the cosine similarity matrix...\n",
            "Done computing similarity matrix.\n",
            "Computing the cosine similarity matrix...\n",
            "Done computing similarity matrix.\n",
            "Computing the cosine similarity matrix...\n",
            "Done computing similarity matrix.\n",
            "Computing the cosine similarity matrix...\n",
            "Done computing similarity matrix.\n"
          ],
          "name": "stdout"
        }
      ]
    },
    {
      "cell_type": "code",
      "metadata": {
        "scrolled": true,
        "id": "3UmP3v8OUxrt",
        "outputId": "90d9d97f-b1cf-481e-f4c1-c2101601cd2e"
      },
      "source": [
        "model.fit(data_train)\n",
        "pred = model.test(data_test)\n",
        "rmse(pred), mae(pred)"
      ],
      "execution_count": null,
      "outputs": [
        {
          "output_type": "stream",
          "text": [
            "Computing the cosine similarity matrix...\n",
            "Done computing similarity matrix.\n",
            "RMSE: 2.1063\n",
            "MAE:  1.7117\n"
          ],
          "name": "stdout"
        },
        {
          "output_type": "execute_result",
          "data": {
            "text/plain": [
              "(2.106327039182432, 1.711683123993405)"
            ]
          },
          "metadata": {
            "tags": []
          },
          "execution_count": 73
        }
      ]
    },
    {
      "cell_type": "code",
      "metadata": {
        "id": "lvM0ijgAUxrt",
        "outputId": "792ce560-06e1-4e80-cfbf-abc2950e8a6c"
      },
      "source": [
        "pd.DataFrame(cv_results)"
      ],
      "execution_count": null,
      "outputs": [
        {
          "output_type": "execute_result",
          "data": {
            "text/html": [
              "<div>\n",
              "<style scoped>\n",
              "    .dataframe tbody tr th:only-of-type {\n",
              "        vertical-align: middle;\n",
              "    }\n",
              "\n",
              "    .dataframe tbody tr th {\n",
              "        vertical-align: top;\n",
              "    }\n",
              "\n",
              "    .dataframe thead th {\n",
              "        text-align: right;\n",
              "    }\n",
              "</style>\n",
              "<table border=\"1\" class=\"dataframe\">\n",
              "  <thead>\n",
              "    <tr style=\"text-align: right;\">\n",
              "      <th></th>\n",
              "      <th>test_rmse</th>\n",
              "      <th>test_mae</th>\n",
              "      <th>fit_time</th>\n",
              "      <th>test_time</th>\n",
              "    </tr>\n",
              "  </thead>\n",
              "  <tbody>\n",
              "    <tr>\n",
              "      <th>0</th>\n",
              "      <td>2.131036</td>\n",
              "      <td>1.755403</td>\n",
              "      <td>0.630314</td>\n",
              "      <td>0.010970</td>\n",
              "    </tr>\n",
              "    <tr>\n",
              "      <th>1</th>\n",
              "      <td>2.056536</td>\n",
              "      <td>1.696557</td>\n",
              "      <td>0.598305</td>\n",
              "      <td>0.023939</td>\n",
              "    </tr>\n",
              "    <tr>\n",
              "      <th>2</th>\n",
              "      <td>2.145939</td>\n",
              "      <td>1.760332</td>\n",
              "      <td>0.554500</td>\n",
              "      <td>0.016953</td>\n",
              "    </tr>\n",
              "    <tr>\n",
              "      <th>3</th>\n",
              "      <td>2.226945</td>\n",
              "      <td>1.808806</td>\n",
              "      <td>0.404427</td>\n",
              "      <td>0.008975</td>\n",
              "    </tr>\n",
              "    <tr>\n",
              "      <th>4</th>\n",
              "      <td>2.027128</td>\n",
              "      <td>1.652790</td>\n",
              "      <td>0.417879</td>\n",
              "      <td>0.019732</td>\n",
              "    </tr>\n",
              "  </tbody>\n",
              "</table>\n",
              "</div>"
            ],
            "text/plain": [
              "   test_rmse  test_mae  fit_time  test_time\n",
              "0   2.131036  1.755403  0.630314   0.010970\n",
              "1   2.056536  1.696557  0.598305   0.023939\n",
              "2   2.145939  1.760332  0.554500   0.016953\n",
              "3   2.226945  1.808806  0.404427   0.008975\n",
              "4   2.027128  1.652790  0.417879   0.019732"
            ]
          },
          "metadata": {
            "tags": []
          },
          "execution_count": 74
        }
      ]
    },
    {
      "cell_type": "code",
      "metadata": {
        "id": "6JOoqG2tUxru"
      },
      "source": [
        "rmse5 = cv_results[\"test_rmse\"].mean()\n",
        "mae5 = cv_results[\"test_mae\"].mean()\n",
        "accuracy = update_accuracy(accuracy, \"title-based\", rmse5, mae5)"
      ],
      "execution_count": null,
      "outputs": []
    },
    {
      "cell_type": "markdown",
      "metadata": {
        "id": "-NB95rtOUxru"
      },
      "source": [
        "## Surprise con NormalPredictor"
      ]
    },
    {
      "cell_type": "code",
      "metadata": {
        "id": "_XLFby6rUxrv"
      },
      "source": [
        "from surprise import NormalPredictor\n",
        "model = NormalPredictor()\n",
        "cv_results = cross_validate(model, data, cv=kf)"
      ],
      "execution_count": null,
      "outputs": []
    },
    {
      "cell_type": "code",
      "metadata": {
        "id": "eTGyI0GwUxrv",
        "outputId": "6812831e-7486-43bb-e54d-a1557b45fcd5"
      },
      "source": [
        "model.fit(data_train)\n",
        "pred = model.test(data_test)\n",
        "rmse(pred), mae(pred)"
      ],
      "execution_count": null,
      "outputs": [
        {
          "output_type": "stream",
          "text": [
            "RMSE: 2.7744\n",
            "MAE:  2.2581\n"
          ],
          "name": "stdout"
        },
        {
          "output_type": "execute_result",
          "data": {
            "text/plain": [
              "(2.7744226459945884, 2.258145009695871)"
            ]
          },
          "metadata": {
            "tags": []
          },
          "execution_count": 77
        }
      ]
    },
    {
      "cell_type": "code",
      "metadata": {
        "id": "-NwTO-f7Uxrw",
        "outputId": "db7f67c1-195a-480e-c557-73346454049d"
      },
      "source": [
        "pd.DataFrame(cv_results)"
      ],
      "execution_count": null,
      "outputs": [
        {
          "output_type": "execute_result",
          "data": {
            "text/html": [
              "<div>\n",
              "<style scoped>\n",
              "    .dataframe tbody tr th:only-of-type {\n",
              "        vertical-align: middle;\n",
              "    }\n",
              "\n",
              "    .dataframe tbody tr th {\n",
              "        vertical-align: top;\n",
              "    }\n",
              "\n",
              "    .dataframe thead th {\n",
              "        text-align: right;\n",
              "    }\n",
              "</style>\n",
              "<table border=\"1\" class=\"dataframe\">\n",
              "  <thead>\n",
              "    <tr style=\"text-align: right;\">\n",
              "      <th></th>\n",
              "      <th>test_rmse</th>\n",
              "      <th>test_mae</th>\n",
              "      <th>fit_time</th>\n",
              "      <th>test_time</th>\n",
              "    </tr>\n",
              "  </thead>\n",
              "  <tbody>\n",
              "    <tr>\n",
              "      <th>0</th>\n",
              "      <td>2.798047</td>\n",
              "      <td>2.285364</td>\n",
              "      <td>0.006984</td>\n",
              "      <td>0.007975</td>\n",
              "    </tr>\n",
              "    <tr>\n",
              "      <th>1</th>\n",
              "      <td>2.879648</td>\n",
              "      <td>2.356138</td>\n",
              "      <td>0.005984</td>\n",
              "      <td>0.007979</td>\n",
              "    </tr>\n",
              "    <tr>\n",
              "      <th>2</th>\n",
              "      <td>2.914572</td>\n",
              "      <td>2.358477</td>\n",
              "      <td>0.007978</td>\n",
              "      <td>0.008977</td>\n",
              "    </tr>\n",
              "    <tr>\n",
              "      <th>3</th>\n",
              "      <td>2.972101</td>\n",
              "      <td>2.383198</td>\n",
              "      <td>0.003988</td>\n",
              "      <td>0.003989</td>\n",
              "    </tr>\n",
              "    <tr>\n",
              "      <th>4</th>\n",
              "      <td>2.896109</td>\n",
              "      <td>2.332969</td>\n",
              "      <td>0.003989</td>\n",
              "      <td>0.005985</td>\n",
              "    </tr>\n",
              "  </tbody>\n",
              "</table>\n",
              "</div>"
            ],
            "text/plain": [
              "   test_rmse  test_mae  fit_time  test_time\n",
              "0   2.798047  2.285364  0.006984   0.007975\n",
              "1   2.879648  2.356138  0.005984   0.007979\n",
              "2   2.914572  2.358477  0.007978   0.008977\n",
              "3   2.972101  2.383198  0.003988   0.003989\n",
              "4   2.896109  2.332969  0.003989   0.005985"
            ]
          },
          "metadata": {
            "tags": []
          },
          "execution_count": 78
        }
      ]
    },
    {
      "cell_type": "code",
      "metadata": {
        "id": "n-1nOwNWUxrw"
      },
      "source": [
        "rmse6 = cv_results[\"test_rmse\"].mean()\n",
        "mae6 = cv_results[\"test_mae\"].mean()\n",
        "accuracy = update_accuracy(accuracy, \"normal\", rmse6, mae6)"
      ],
      "execution_count": null,
      "outputs": []
    },
    {
      "cell_type": "markdown",
      "metadata": {
        "id": "Mn4ywEuyUxrx"
      },
      "source": [
        "## Surprise con SVD"
      ]
    },
    {
      "cell_type": "markdown",
      "metadata": {
        "id": "7VVoPt1fUxrx"
      },
      "source": [
        "SVD è una libreria apposita per eseguire un'analisi di recommendation casuale"
      ]
    },
    {
      "cell_type": "code",
      "metadata": {
        "id": "VBLxX9wiUxry"
      },
      "source": [
        "from surprise import SVD\n",
        "model = SVD(n_factors=5, random_state=42)\n",
        "cv_results = cross_validate(model, data, cv=kf)"
      ],
      "execution_count": null,
      "outputs": []
    },
    {
      "cell_type": "code",
      "metadata": {
        "id": "VZxMd1isUxry",
        "outputId": "a489e7bb-f541-4acb-f94a-e70754e84bc2"
      },
      "source": [
        "model.fit(data_train)\n",
        "pred = model.test(data_test)\n",
        "rmse(pred), mae(pred)"
      ],
      "execution_count": null,
      "outputs": [
        {
          "output_type": "stream",
          "text": [
            "RMSE: 2.0585\n",
            "MAE:  1.6674\n"
          ],
          "name": "stdout"
        },
        {
          "output_type": "execute_result",
          "data": {
            "text/plain": [
              "(2.058526273331423, 1.6674223063467295)"
            ]
          },
          "metadata": {
            "tags": []
          },
          "execution_count": 81
        }
      ]
    },
    {
      "cell_type": "code",
      "metadata": {
        "id": "8nYaBP5YUxrz",
        "outputId": "1885b91a-3d81-4d24-888a-e6add794fe50"
      },
      "source": [
        "pd.DataFrame(cv_results)"
      ],
      "execution_count": null,
      "outputs": [
        {
          "output_type": "execute_result",
          "data": {
            "text/html": [
              "<div>\n",
              "<style scoped>\n",
              "    .dataframe tbody tr th:only-of-type {\n",
              "        vertical-align: middle;\n",
              "    }\n",
              "\n",
              "    .dataframe tbody tr th {\n",
              "        vertical-align: top;\n",
              "    }\n",
              "\n",
              "    .dataframe thead th {\n",
              "        text-align: right;\n",
              "    }\n",
              "</style>\n",
              "<table border=\"1\" class=\"dataframe\">\n",
              "  <thead>\n",
              "    <tr style=\"text-align: right;\">\n",
              "      <th></th>\n",
              "      <th>test_rmse</th>\n",
              "      <th>test_mae</th>\n",
              "      <th>fit_time</th>\n",
              "      <th>test_time</th>\n",
              "    </tr>\n",
              "  </thead>\n",
              "  <tbody>\n",
              "    <tr>\n",
              "      <th>0</th>\n",
              "      <td>2.063938</td>\n",
              "      <td>1.672459</td>\n",
              "      <td>0.061833</td>\n",
              "      <td>0.003990</td>\n",
              "    </tr>\n",
              "    <tr>\n",
              "      <th>1</th>\n",
              "      <td>2.043202</td>\n",
              "      <td>1.666523</td>\n",
              "      <td>0.048869</td>\n",
              "      <td>0.004987</td>\n",
              "    </tr>\n",
              "    <tr>\n",
              "      <th>2</th>\n",
              "      <td>2.060844</td>\n",
              "      <td>1.692094</td>\n",
              "      <td>0.046875</td>\n",
              "      <td>0.005981</td>\n",
              "    </tr>\n",
              "    <tr>\n",
              "      <th>3</th>\n",
              "      <td>2.198927</td>\n",
              "      <td>1.772856</td>\n",
              "      <td>0.066822</td>\n",
              "      <td>0.005732</td>\n",
              "    </tr>\n",
              "    <tr>\n",
              "      <th>4</th>\n",
              "      <td>1.999910</td>\n",
              "      <td>1.639716</td>\n",
              "      <td>0.044388</td>\n",
              "      <td>0.005984</td>\n",
              "    </tr>\n",
              "  </tbody>\n",
              "</table>\n",
              "</div>"
            ],
            "text/plain": [
              "   test_rmse  test_mae  fit_time  test_time\n",
              "0   2.063938  1.672459  0.061833   0.003990\n",
              "1   2.043202  1.666523  0.048869   0.004987\n",
              "2   2.060844  1.692094  0.046875   0.005981\n",
              "3   2.198927  1.772856  0.066822   0.005732\n",
              "4   1.999910  1.639716  0.044388   0.005984"
            ]
          },
          "metadata": {
            "tags": []
          },
          "execution_count": 82
        }
      ]
    },
    {
      "cell_type": "code",
      "metadata": {
        "id": "0t8hzLVqUxrz"
      },
      "source": [
        "rmse7 = cv_results[\"test_rmse\"].mean()\n",
        "mae7 = cv_results[\"test_mae\"].mean()\n",
        "accuracy = update_accuracy(accuracy, \"SVD\", rmse7, mae7)"
      ],
      "execution_count": null,
      "outputs": []
    },
    {
      "cell_type": "markdown",
      "metadata": {
        "id": "vN9QiA1KUxr0"
      },
      "source": [
        "## Valutazione dei Modelli"
      ]
    },
    {
      "cell_type": "markdown",
      "metadata": {
        "id": "IYYNfL2MUxr0"
      },
      "source": [
        "Grafico di confronto trai i valori RMSE e MAE riportati dai modelli di recommendation"
      ]
    },
    {
      "cell_type": "code",
      "metadata": {
        "id": "_gS6TUyuUxr1"
      },
      "source": [
        "accuracy.set_index(\"model\", inplace=True)"
      ],
      "execution_count": null,
      "outputs": []
    },
    {
      "cell_type": "code",
      "metadata": {
        "id": "YkzFiqoSUxr1",
        "outputId": "b95f5134-ae48-403a-a71f-c8eccca6627c"
      },
      "source": [
        "accuracy.sort_values(\"RMSE\").plot.bar(figsize=(10,5));"
      ],
      "execution_count": null,
      "outputs": [
        {
          "output_type": "execute_result",
          "data": {
            "text/plain": [
              "<matplotlib.axes._subplots.AxesSubplot at 0x2438a174888>"
            ]
          },
          "metadata": {
            "tags": []
          },
          "execution_count": 85
        },
        {
          "output_type": "display_data",
          "data": {
            "image/png": "[encoded data removed]",
            "text/plain": [
              "<Figure size 720x360 with 1 Axes>"
            ]
          },
          "metadata": {
            "tags": [],
            "needs_background": "light"
          }
        }
      ]
    },
    {
      "cell_type": "code",
      "metadata": {
        "id": "GYDtof4vUxr1",
        "outputId": "3d5b57ef-8ed5-4f53-923b-1a28b5a339dd"
      },
      "source": [
        "accuracy.sort_values(\"RMSE\").T"
      ],
      "execution_count": null,
      "outputs": [
        {
          "output_type": "execute_result",
          "data": {
            "text/html": [
              "<div>\n",
              "<style scoped>\n",
              "    .dataframe tbody tr th:only-of-type {\n",
              "        vertical-align: middle;\n",
              "    }\n",
              "\n",
              "    .dataframe tbody tr th {\n",
              "        vertical-align: top;\n",
              "    }\n",
              "\n",
              "    .dataframe thead th {\n",
              "        text-align: right;\n",
              "    }\n",
              "</style>\n",
              "<table border=\"1\" class=\"dataframe\">\n",
              "  <thead>\n",
              "    <tr style=\"text-align: right;\">\n",
              "      <th>model</th>\n",
              "      <th>SVD</th>\n",
              "      <th>pearson</th>\n",
              "      <th>title-based</th>\n",
              "      <th>cosine</th>\n",
              "      <th>means</th>\n",
              "      <th>cf</th>\n",
              "      <th>normal</th>\n",
              "    </tr>\n",
              "  </thead>\n",
              "  <tbody>\n",
              "    <tr>\n",
              "      <th>RMSE</th>\n",
              "      <td>2.073364</td>\n",
              "      <td>2.099759</td>\n",
              "      <td>2.117517</td>\n",
              "      <td>2.121164</td>\n",
              "      <td>2.129350</td>\n",
              "      <td>2.570237</td>\n",
              "      <td>2.892095</td>\n",
              "    </tr>\n",
              "    <tr>\n",
              "      <th>MAE</th>\n",
              "      <td>1.688730</td>\n",
              "      <td>1.727799</td>\n",
              "      <td>1.734778</td>\n",
              "      <td>1.741470</td>\n",
              "      <td>1.747029</td>\n",
              "      <td>2.192895</td>\n",
              "      <td>2.343229</td>\n",
              "    </tr>\n",
              "  </tbody>\n",
              "</table>\n",
              "</div>"
            ],
            "text/plain": [
              "model       SVD   pearson  title-based    cosine     means        cf    normal\n",
              "RMSE   2.073364  2.099759     2.117517  2.121164  2.129350  2.570237  2.892095\n",
              "MAE    1.688730  1.727799     1.734778  1.741470  1.747029  2.192895  2.343229"
            ]
          },
          "metadata": {
            "tags": []
          },
          "execution_count": 86
        }
      ]
    },
    {
      "cell_type": "markdown",
      "metadata": {
        "id": "KBPc9c2zUxr2"
      },
      "source": [
        "Dei modelli studiati quello che risulta con un'accuratezza migliore in termini di RMSE e MAE è SVD."
      ]
    },
    {
      "cell_type": "markdown",
      "metadata": {
        "id": "7WlGJMpXUxr2"
      },
      "source": [
        "## Grid Search"
      ]
    },
    {
      "cell_type": "markdown",
      "metadata": {
        "id": "ZCehBacVUxr3"
      },
      "source": [
        "Grid Search si utilizza per indiviuare i parametri migliori per il modello in questione."
      ]
    },
    {
      "cell_type": "code",
      "metadata": {
        "id": "uKXWRYURUxr3"
      },
      "source": [
        "from surprise.model_selection import GridSearchCV"
      ],
      "execution_count": null,
      "outputs": []
    },
    {
      "cell_type": "code",
      "metadata": {
        "id": "6lKlnIwGUxr4"
      },
      "source": [
        "grid = {\n",
        "    \"n_factors\": list(range(5,50,5)),\n",
        "    \"random_state\": [42]\n",
        "}"
      ],
      "execution_count": null,
      "outputs": []
    },
    {
      "cell_type": "code",
      "metadata": {
        "id": "vhONdhhnUxr4"
      },
      "source": [
        "gs = GridSearchCV(SVD, grid, cv=kf, refit=True)\n",
        "gs.fit(data)"
      ],
      "execution_count": null,
      "outputs": []
    },
    {
      "cell_type": "code",
      "metadata": {
        "id": "hmGuqWB_Uxr4",
        "outputId": "218f02fd-5cc9-4221-854f-5605ce20e91d"
      },
      "source": [
        "gs.best_params"
      ],
      "execution_count": null,
      "outputs": [
        {
          "output_type": "execute_result",
          "data": {
            "text/plain": [
              "{'rmse': {'n_factors': 10, 'random_state': 42},\n",
              " 'mae': {'n_factors': 10, 'random_state': 42}}"
            ]
          },
          "metadata": {
            "tags": []
          },
          "execution_count": 90
        }
      ]
    },
    {
      "cell_type": "code",
      "metadata": {
        "id": "5px78xEwUxr5",
        "outputId": "55dcee0a-49b4-4cb1-d23f-a0dd9d23f254"
      },
      "source": [
        "pd.DataFrame(gs.cv_results).sort_values(\"mean_test_rmse\")"
      ],
      "execution_count": null,
      "outputs": [
        {
          "output_type": "execute_result",
          "data": {
            "text/html": [
              "<div>\n",
              "<style scoped>\n",
              "    .dataframe tbody tr th:only-of-type {\n",
              "        vertical-align: middle;\n",
              "    }\n",
              "\n",
              "    .dataframe tbody tr th {\n",
              "        vertical-align: top;\n",
              "    }\n",
              "\n",
              "    .dataframe thead th {\n",
              "        text-align: right;\n",
              "    }\n",
              "</style>\n",
              "<table border=\"1\" class=\"dataframe\">\n",
              "  <thead>\n",
              "    <tr style=\"text-align: right;\">\n",
              "      <th></th>\n",
              "      <th>split0_test_rmse</th>\n",
              "      <th>split1_test_rmse</th>\n",
              "      <th>split2_test_rmse</th>\n",
              "      <th>split3_test_rmse</th>\n",
              "      <th>split4_test_rmse</th>\n",
              "      <th>mean_test_rmse</th>\n",
              "      <th>std_test_rmse</th>\n",
              "      <th>rank_test_rmse</th>\n",
              "      <th>split0_test_mae</th>\n",
              "      <th>split1_test_mae</th>\n",
              "      <th>...</th>\n",
              "      <th>mean_test_mae</th>\n",
              "      <th>std_test_mae</th>\n",
              "      <th>rank_test_mae</th>\n",
              "      <th>mean_fit_time</th>\n",
              "      <th>std_fit_time</th>\n",
              "      <th>mean_test_time</th>\n",
              "      <th>std_test_time</th>\n",
              "      <th>params</th>\n",
              "      <th>param_n_factors</th>\n",
              "      <th>param_random_state</th>\n",
              "    </tr>\n",
              "  </thead>\n",
              "  <tbody>\n",
              "    <tr>\n",
              "      <th>1</th>\n",
              "      <td>2.065005</td>\n",
              "      <td>2.041978</td>\n",
              "      <td>2.056856</td>\n",
              "      <td>2.198666</td>\n",
              "      <td>1.982611</td>\n",
              "      <td>2.069023</td>\n",
              "      <td>0.070951</td>\n",
              "      <td>1</td>\n",
              "      <td>1.676198</td>\n",
              "      <td>1.672086</td>\n",
              "      <td>...</td>\n",
              "      <td>1.686832</td>\n",
              "      <td>0.049516</td>\n",
              "      <td>1</td>\n",
              "      <td>0.045079</td>\n",
              "      <td>0.010896</td>\n",
              "      <td>0.003192</td>\n",
              "      <td>0.001466</td>\n",
              "      <td>{'n_factors': 10, 'random_state': 42}</td>\n",
              "      <td>10</td>\n",
              "      <td>42</td>\n",
              "    </tr>\n",
              "    <tr>\n",
              "      <th>8</th>\n",
              "      <td>2.064050</td>\n",
              "      <td>2.043562</td>\n",
              "      <td>2.058070</td>\n",
              "      <td>2.196425</td>\n",
              "      <td>1.984774</td>\n",
              "      <td>2.069376</td>\n",
              "      <td>0.069457</td>\n",
              "      <td>2</td>\n",
              "      <td>1.677335</td>\n",
              "      <td>1.671603</td>\n",
              "      <td>...</td>\n",
              "      <td>1.688353</td>\n",
              "      <td>0.047388</td>\n",
              "      <td>4</td>\n",
              "      <td>0.140931</td>\n",
              "      <td>0.028173</td>\n",
              "      <td>0.005386</td>\n",
              "      <td>0.002324</td>\n",
              "      <td>{'n_factors': 45, 'random_state': 42}</td>\n",
              "      <td>45</td>\n",
              "      <td>42</td>\n",
              "    </tr>\n",
              "    <tr>\n",
              "      <th>5</th>\n",
              "      <td>2.058820</td>\n",
              "      <td>2.050201</td>\n",
              "      <td>2.059464</td>\n",
              "      <td>2.204906</td>\n",
              "      <td>1.978705</td>\n",
              "      <td>2.070419</td>\n",
              "      <td>0.073704</td>\n",
              "      <td>3</td>\n",
              "      <td>1.666501</td>\n",
              "      <td>1.676812</td>\n",
              "      <td>...</td>\n",
              "      <td>1.686948</td>\n",
              "      <td>0.054318</td>\n",
              "      <td>2</td>\n",
              "      <td>0.128456</td>\n",
              "      <td>0.043779</td>\n",
              "      <td>0.007181</td>\n",
              "      <td>0.003051</td>\n",
              "      <td>{'n_factors': 30, 'random_state': 42}</td>\n",
              "      <td>30</td>\n",
              "      <td>42</td>\n",
              "    </tr>\n",
              "    <tr>\n",
              "      <th>2</th>\n",
              "      <td>2.059527</td>\n",
              "      <td>2.043045</td>\n",
              "      <td>2.061884</td>\n",
              "      <td>2.199246</td>\n",
              "      <td>1.991948</td>\n",
              "      <td>2.071130</td>\n",
              "      <td>0.068837</td>\n",
              "      <td>4</td>\n",
              "      <td>1.671233</td>\n",
              "      <td>1.668766</td>\n",
              "      <td>...</td>\n",
              "      <td>1.689108</td>\n",
              "      <td>0.049081</td>\n",
              "      <td>6</td>\n",
              "      <td>0.053456</td>\n",
              "      <td>0.019241</td>\n",
              "      <td>0.003989</td>\n",
              "      <td>0.002091</td>\n",
              "      <td>{'n_factors': 15, 'random_state': 42}</td>\n",
              "      <td>15</td>\n",
              "      <td>42</td>\n",
              "    </tr>\n",
              "    <tr>\n",
              "      <th>3</th>\n",
              "      <td>2.063646</td>\n",
              "      <td>2.046031</td>\n",
              "      <td>2.058992</td>\n",
              "      <td>2.199081</td>\n",
              "      <td>1.992137</td>\n",
              "      <td>2.071977</td>\n",
              "      <td>0.068471</td>\n",
              "      <td>5</td>\n",
              "      <td>1.674584</td>\n",
              "      <td>1.671178</td>\n",
              "      <td>...</td>\n",
              "      <td>1.687259</td>\n",
              "      <td>0.045341</td>\n",
              "      <td>3</td>\n",
              "      <td>0.086811</td>\n",
              "      <td>0.015190</td>\n",
              "      <td>0.004788</td>\n",
              "      <td>0.000399</td>\n",
              "      <td>{'n_factors': 20, 'random_state': 42}</td>\n",
              "      <td>20</td>\n",
              "      <td>42</td>\n",
              "    </tr>\n",
              "    <tr>\n",
              "      <th>6</th>\n",
              "      <td>2.063162</td>\n",
              "      <td>2.041761</td>\n",
              "      <td>2.063459</td>\n",
              "      <td>2.199092</td>\n",
              "      <td>1.998899</td>\n",
              "      <td>2.073274</td>\n",
              "      <td>0.067162</td>\n",
              "      <td>6</td>\n",
              "      <td>1.675462</td>\n",
              "      <td>1.666968</td>\n",
              "      <td>...</td>\n",
              "      <td>1.689772</td>\n",
              "      <td>0.046530</td>\n",
              "      <td>7</td>\n",
              "      <td>0.145422</td>\n",
              "      <td>0.021229</td>\n",
              "      <td>0.006382</td>\n",
              "      <td>0.002053</td>\n",
              "      <td>{'n_factors': 35, 'random_state': 42}</td>\n",
              "      <td>35</td>\n",
              "      <td>42</td>\n",
              "    </tr>\n",
              "    <tr>\n",
              "      <th>0</th>\n",
              "      <td>2.063938</td>\n",
              "      <td>2.043202</td>\n",
              "      <td>2.060844</td>\n",
              "      <td>2.198927</td>\n",
              "      <td>1.999910</td>\n",
              "      <td>2.073364</td>\n",
              "      <td>0.066808</td>\n",
              "      <td>7</td>\n",
              "      <td>1.672459</td>\n",
              "      <td>1.666523</td>\n",
              "      <td>...</td>\n",
              "      <td>1.688730</td>\n",
              "      <td>0.045274</td>\n",
              "      <td>5</td>\n",
              "      <td>0.055850</td>\n",
              "      <td>0.022364</td>\n",
              "      <td>0.004191</td>\n",
              "      <td>0.001166</td>\n",
              "      <td>{'n_factors': 5, 'random_state': 42}</td>\n",
              "      <td>5</td>\n",
              "      <td>42</td>\n",
              "    </tr>\n",
              "    <tr>\n",
              "      <th>7</th>\n",
              "      <td>2.061164</td>\n",
              "      <td>2.049386</td>\n",
              "      <td>2.064027</td>\n",
              "      <td>2.199941</td>\n",
              "      <td>1.997249</td>\n",
              "      <td>2.074353</td>\n",
              "      <td>0.067263</td>\n",
              "      <td>8</td>\n",
              "      <td>1.674046</td>\n",
              "      <td>1.673643</td>\n",
              "      <td>...</td>\n",
              "      <td>1.689995</td>\n",
              "      <td>0.047595</td>\n",
              "      <td>8</td>\n",
              "      <td>0.114519</td>\n",
              "      <td>0.034533</td>\n",
              "      <td>0.004787</td>\n",
              "      <td>0.001715</td>\n",
              "      <td>{'n_factors': 40, 'random_state': 42}</td>\n",
              "      <td>40</td>\n",
              "      <td>42</td>\n",
              "    </tr>\n",
              "    <tr>\n",
              "      <th>4</th>\n",
              "      <td>2.066624</td>\n",
              "      <td>2.052715</td>\n",
              "      <td>2.060008</td>\n",
              "      <td>2.199021</td>\n",
              "      <td>1.994881</td>\n",
              "      <td>2.074650</td>\n",
              "      <td>0.067218</td>\n",
              "      <td>9</td>\n",
              "      <td>1.673739</td>\n",
              "      <td>1.680936</td>\n",
              "      <td>...</td>\n",
              "      <td>1.691037</td>\n",
              "      <td>0.044128</td>\n",
              "      <td>9</td>\n",
              "      <td>0.070935</td>\n",
              "      <td>0.016765</td>\n",
              "      <td>0.003990</td>\n",
              "      <td>0.001669</td>\n",
              "      <td>{'n_factors': 25, 'random_state': 42}</td>\n",
              "      <td>25</td>\n",
              "      <td>42</td>\n",
              "    </tr>\n",
              "  </tbody>\n",
              "</table>\n",
              "<p>9 rows × 23 columns</p>\n",
              "</div>"
            ],
            "text/plain": [
              "   split0_test_rmse  split1_test_rmse  split2_test_rmse  split3_test_rmse  \\\n",
              "1          2.065005          2.041978          2.056856          2.198666   \n",
              "8          2.064050          2.043562          2.058070          2.196425   \n",
              "5          2.058820          2.050201          2.059464          2.204906   \n",
              "2          2.059527          2.043045          2.061884          2.199246   \n",
              "3          2.063646          2.046031          2.058992          2.199081   \n",
              "6          2.063162          2.041761          2.063459          2.199092   \n",
              "0          2.063938          2.043202          2.060844          2.198927   \n",
              "7          2.061164          2.049386          2.064027          2.199941   \n",
              "4          2.066624          2.052715          2.060008          2.199021   \n",
              "\n",
              "   split4_test_rmse  mean_test_rmse  std_test_rmse  rank_test_rmse  \\\n",
              "1          1.982611        2.069023       0.070951               1   \n",
              "8          1.984774        2.069376       0.069457               2   \n",
              "5          1.978705        2.070419       0.073704               3   \n",
              "2          1.991948        2.071130       0.068837               4   \n",
              "3          1.992137        2.071977       0.068471               5   \n",
              "6          1.998899        2.073274       0.067162               6   \n",
              "0          1.999910        2.073364       0.066808               7   \n",
              "7          1.997249        2.074353       0.067263               8   \n",
              "4          1.994881        2.074650       0.067218               9   \n",
              "\n",
              "   split0_test_mae  split1_test_mae  ...  mean_test_mae  std_test_mae  \\\n",
              "1         1.676198         1.672086  ...       1.686832      0.049516   \n",
              "8         1.677335         1.671603  ...       1.688353      0.047388   \n",
              "5         1.666501         1.676812  ...       1.686948      0.054318   \n",
              "2         1.671233         1.668766  ...       1.689108      0.049081   \n",
              "3         1.674584         1.671178  ...       1.687259      0.045341   \n",
              "6         1.675462         1.666968  ...       1.689772      0.046530   \n",
              "0         1.672459         1.666523  ...       1.688730      0.045274   \n",
              "7         1.674046         1.673643  ...       1.689995      0.047595   \n",
              "4         1.673739         1.680936  ...       1.691037      0.044128   \n",
              "\n",
              "   rank_test_mae  mean_fit_time  std_fit_time  mean_test_time  std_test_time  \\\n",
              "1              1       0.045079      0.010896        0.003192       0.001466   \n",
              "8              4       0.140931      0.028173        0.005386       0.002324   \n",
              "5              2       0.128456      0.043779        0.007181       0.003051   \n",
              "2              6       0.053456      0.019241        0.003989       0.002091   \n",
              "3              3       0.086811      0.015190        0.004788       0.000399   \n",
              "6              7       0.145422      0.021229        0.006382       0.002053   \n",
              "0              5       0.055850      0.022364        0.004191       0.001166   \n",
              "7              8       0.114519      0.034533        0.004787       0.001715   \n",
              "4              9       0.070935      0.016765        0.003990       0.001669   \n",
              "\n",
              "                                  params  param_n_factors  param_random_state  \n",
              "1  {'n_factors': 10, 'random_state': 42}               10                  42  \n",
              "8  {'n_factors': 45, 'random_state': 42}               45                  42  \n",
              "5  {'n_factors': 30, 'random_state': 42}               30                  42  \n",
              "2  {'n_factors': 15, 'random_state': 42}               15                  42  \n",
              "3  {'n_factors': 20, 'random_state': 42}               20                  42  \n",
              "6  {'n_factors': 35, 'random_state': 42}               35                  42  \n",
              "0   {'n_factors': 5, 'random_state': 42}                5                  42  \n",
              "7  {'n_factors': 40, 'random_state': 42}               40                  42  \n",
              "4  {'n_factors': 25, 'random_state': 42}               25                  42  \n",
              "\n",
              "[9 rows x 23 columns]"
            ]
          },
          "metadata": {
            "tags": []
          },
          "execution_count": 91
        }
      ]
    },
    {
      "cell_type": "markdown",
      "metadata": {
        "id": "yq8IUZj4Uxr6"
      },
      "source": [
        "Si calcola RMSE e MAE sul validation set del modello migliore individuato"
      ]
    },
    {
      "cell_type": "code",
      "metadata": {
        "scrolled": true,
        "id": "DaRjgaODUxr6",
        "outputId": "fa62dd65-01c3-4f65-cf16-7c105758ee11"
      },
      "source": [
        "preds = gs.test(data_test)\n",
        "rmse(preds), mae(preds)"
      ],
      "execution_count": null,
      "outputs": [
        {
          "output_type": "stream",
          "text": [
            "RMSE: 1.5816\n",
            "MAE:  1.2641\n"
          ],
          "name": "stdout"
        },
        {
          "output_type": "execute_result",
          "data": {
            "text/plain": [
              "(1.5816311758420856, 1.2640556788212334)"
            ]
          },
          "metadata": {
            "tags": []
          },
          "execution_count": 92
        }
      ]
    },
    {
      "cell_type": "markdown",
      "metadata": {
        "id": "QqXEvyPeUxr-"
      },
      "source": [
        "Si definisce una funzione Recommend che prende in input l'indice numerico di un utente e che restituisce una lista dei film con valutazione più simile alle sue"
      ]
    },
    {
      "cell_type": "code",
      "metadata": {
        "id": "HCJkPBmkUxsA"
      },
      "source": [
        "def recommend(uid, n_recomms):\n",
        "    user_id = user_ratings[\"user_id\"].unique()[uid]\n",
        "    preds = [gs.predict(user_id, data_train.to_raw_iid(ii))\n",
        "             for ii in range(data_train.n_items)]\n",
        "    preds.sort(key=lambda p: p.est, reverse=True)\n",
        "    return pd.DataFrame([(p.iid, p.est) for p in preds[:n_recomms]], columns=[\"title\",\"rating\"])"
      ],
      "execution_count": null,
      "outputs": []
    },
    {
      "cell_type": "code",
      "metadata": {
        "scrolled": true,
        "id": "biiEkkqkUxsA",
        "outputId": "33a0bd82-3d4b-45a5-952b-f93578073871"
      },
      "source": [
        "recommend(400, 10)"
      ],
      "execution_count": null,
      "outputs": [
        {
          "output_type": "execute_result",
          "data": {
            "text/html": [
              "<div>\n",
              "<style scoped>\n",
              "    .dataframe tbody tr th:only-of-type {\n",
              "        vertical-align: middle;\n",
              "    }\n",
              "\n",
              "    .dataframe tbody tr th {\n",
              "        vertical-align: top;\n",
              "    }\n",
              "\n",
              "    .dataframe thead th {\n",
              "        text-align: right;\n",
              "    }\n",
              "</style>\n",
              "<table border=\"1\" class=\"dataframe\">\n",
              "  <thead>\n",
              "    <tr style=\"text-align: right;\">\n",
              "      <th></th>\n",
              "      <th>title</th>\n",
              "      <th>rating</th>\n",
              "    </tr>\n",
              "  </thead>\n",
              "  <tbody>\n",
              "    <tr>\n",
              "      <th>0</th>\n",
              "      <td>Saving Private Ryan</td>\n",
              "      <td>7.380103</td>\n",
              "    </tr>\n",
              "    <tr>\n",
              "      <th>1</th>\n",
              "      <td>The Sixth Sense</td>\n",
              "      <td>7.302318</td>\n",
              "    </tr>\n",
              "    <tr>\n",
              "      <th>2</th>\n",
              "      <td>South Park: Bigger, Longer &amp; Uncut</td>\n",
              "      <td>7.297365</td>\n",
              "    </tr>\n",
              "    <tr>\n",
              "      <th>3</th>\n",
              "      <td>The Matrix</td>\n",
              "      <td>7.291098</td>\n",
              "    </tr>\n",
              "    <tr>\n",
              "      <th>4</th>\n",
              "      <td>The Lion in Winter</td>\n",
              "      <td>7.107384</td>\n",
              "    </tr>\n",
              "    <tr>\n",
              "      <th>5</th>\n",
              "      <td>Breaking the Waves</td>\n",
              "      <td>7.047999</td>\n",
              "    </tr>\n",
              "    <tr>\n",
              "      <th>6</th>\n",
              "      <td>Being John Malkovich</td>\n",
              "      <td>7.020573</td>\n",
              "    </tr>\n",
              "    <tr>\n",
              "      <th>7</th>\n",
              "      <td>Event Horizon</td>\n",
              "      <td>6.999150</td>\n",
              "    </tr>\n",
              "    <tr>\n",
              "      <th>8</th>\n",
              "      <td>Buffalo '66</td>\n",
              "      <td>6.998397</td>\n",
              "    </tr>\n",
              "    <tr>\n",
              "      <th>9</th>\n",
              "      <td>Frequency</td>\n",
              "      <td>6.977961</td>\n",
              "    </tr>\n",
              "  </tbody>\n",
              "</table>\n",
              "</div>"
            ],
            "text/plain": [
              "                                title    rating\n",
              "0                 Saving Private Ryan  7.380103\n",
              "1                     The Sixth Sense  7.302318\n",
              "2  South Park: Bigger, Longer & Uncut  7.297365\n",
              "3                          The Matrix  7.291098\n",
              "4                  The Lion in Winter  7.107384\n",
              "5                  Breaking the Waves  7.047999\n",
              "6                Being John Malkovich  7.020573\n",
              "7                       Event Horizon  6.999150\n",
              "8                         Buffalo '66  6.998397\n",
              "9                           Frequency  6.977961"
            ]
          },
          "metadata": {
            "tags": []
          },
          "execution_count": 94
        }
      ]
    },
    {
      "cell_type": "markdown",
      "metadata": {
        "id": "PoJo_FKSUxsB"
      },
      "source": [
        " ## Conclusioni"
      ]
    },
    {
      "cell_type": "markdown",
      "metadata": {
        "id": "GHiJlXktUxsB"
      },
      "source": [
        "In conclusione ritengo soddifacente l'accuratezza raggiunta dal modello di valutazione, grazie a questi modelli è stato possibile effettuare uno studio e un'analisi sul dataset, con lo scopo di ottenere una previsione approssimativa dei film da consigliare ad un utente in base al suo profilo di valutazioni."
      ]
    }
  ]
}